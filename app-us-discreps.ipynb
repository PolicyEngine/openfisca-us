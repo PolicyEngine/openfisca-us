{
 "cells": [
  {
   "cell_type": "code",
   "execution_count": 4,
   "metadata": {},
   "outputs": [],
   "source": [
    "from policyengine_us import Microsimulation\n",
    "from policyengine_core.reforms import Reform\n",
    "\n",
    "reform = Reform.from_dict({\n",
    "  \"gov.irs.credits.ctc.amount.base[0].amount\": {\n",
    "    \"2024-01-01.2100-12-31\": 5000\n",
    "  }\n",
    "}, country_id=\"us\")\n",
    "\n",
    "\n",
    "baseline = Microsimulation(dataset='enhanced_cps_2024')\n",
    "reformed = Microsimulation(reform=reform, dataset='enhanced_cps_2024')\n",
    "baseline_income = baseline.calculate(\"household_net_income\", period=2026)\n",
    "reformed_income = reformed.calculate(\"household_net_income\", period=2026)\n",
    "difference_income = reformed_income - baseline_income"
   ]
  },
  {
   "cell_type": "code",
   "execution_count": 5,
   "metadata": {},
   "outputs": [
    {
     "name": "stdout",
     "output_type": "stream",
     "text": [
      "105930672365.92046\n"
     ]
    }
   ],
   "source": [
    "print(difference_income.sum())"
   ]
  }
 ],
 "metadata": {
  "kernelspec": {
   "display_name": "us-3.11",
   "language": "python",
   "name": "python3"
  },
  "language_info": {
   "codemirror_mode": {
    "name": "ipython",
    "version": 3
   },
   "file_extension": ".py",
   "mimetype": "text/x-python",
   "name": "python",
   "nbconvert_exporter": "python",
   "pygments_lexer": "ipython3",
   "version": "3.11.10"
  }
 },
 "nbformat": 4,
 "nbformat_minor": 2
}
