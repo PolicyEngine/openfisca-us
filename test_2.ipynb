{
 "cells": [
  {
   "cell_type": "code",
   "execution_count": 7,
   "metadata": {},
   "outputs": [],
   "source": [
    "from policyengine_core.reforms import Reform\n",
    "\n",
    "\n",
    "reform = Reform.from_api(48789, \"us\")"
   ]
  },
  {
   "cell_type": "code",
   "execution_count": 9,
   "metadata": {},
   "outputs": [
    {
     "name": "stderr",
     "output_type": "stream",
     "text": [
      "/Users/nikhil/policyengine/policyengine-core/policyengine_core/enums/enum.py:74: FutureWarning: elementwise comparison failed; returning scalar instead, but in the future will perform elementwise comparison\n",
      "  if isinstance(array == 0, bool):\n",
      "/Users/nikhil/policyengine/policyengine-core/policyengine_core/enums/enum.py:74: FutureWarning: elementwise comparison failed; returning scalar instead, but in the future will perform elementwise comparison\n",
      "  if isinstance(array == 0, bool):\n"
     ]
    },
    {
     "data": {
      "text/plain": [
       "array([21823.36], dtype=float32)"
      ]
     },
     "execution_count": 9,
     "metadata": {},
     "output_type": "execute_result"
    }
   ],
   "source": [
    "reform.parameter_values\n",
    "\n",
    "from policyengine_us import Simulation\n",
    "\n",
    "sim = Simulation(\n",
    "    reform=reform, situation={\"state_code\": \"PA\", \"employment_income\": 20_000}\n",
    ")\n",
    "\n",
    "sim.calculate(\"household_net_income\")"
   ]
  }
 ],
 "metadata": {
  "kernelspec": {
   "display_name": "base",
   "language": "python",
   "name": "python3"
  },
  "language_info": {
   "codemirror_mode": {
    "name": "ipython",
    "version": 3
   },
   "file_extension": ".py",
   "mimetype": "text/x-python",
   "name": "python",
   "nbconvert_exporter": "python",
   "pygments_lexer": "ipython3",
   "version": "3.9.12"
  }
 },
 "nbformat": 4,
 "nbformat_minor": 2
}
