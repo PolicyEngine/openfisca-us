{
 "cells": [
  {
   "cell_type": "code",
   "execution_count": 3,
   "metadata": {},
   "outputs": [
    {
     "data": {
      "text/plain": [
       "array([1128.1304], dtype=float32)"
      ]
     },
     "execution_count": 3,
     "metadata": {},
     "output_type": "execute_result"
    }
   ],
   "source": [
    "from policyengine_us import Simulation\n",
    "\n",
    "\n",
    "situation = {\n",
    "  \"families\": {\n",
    "    \"your family\": {\n",
    "      \"members\": [\n",
    "        \"you\",\n",
    "        \"your first dependent\"\n",
    "      ]\n",
    "    }\n",
    "  },\n",
    "  \"households\": {\n",
    "    \"your household\": {\n",
    "      \"members\": [\n",
    "        \"you\",\n",
    "        \"your first dependent\"\n",
    "      ],\n",
    "      \"state_name\": {\n",
    "        \"2026\": \"CA\"\n",
    "      }\n",
    "    }\n",
    "  },\n",
    "  \"marital_units\": {\n",
    "    \"your first dependent's marital unit\": {\n",
    "      \"marital_unit_id\": {\n",
    "        \"2026\": 1\n",
    "      },\n",
    "      \"members\": [\n",
    "        \"your first dependent\"\n",
    "      ]\n",
    "    },\n",
    "    \"your marital unit\": {\n",
    "      \"members\": [\n",
    "        \"you\"\n",
    "      ]\n",
    "    }\n",
    "  },\n",
    "  \"people\": {\n",
    "    \"you\": {\n",
    "      \"age\": {\n",
    "        \"2026\": 40\n",
    "      },\n",
    "      \"employment_income\": {\n",
    "        \"2026\": 29000\n",
    "      }\n",
    "    },\n",
    "    \"your first dependent\": {\n",
    "      \"age\": {\n",
    "        \"2026\": 5\n",
    "      },\n",
    "      \"employment_income\": {\n",
    "        \"2026\": 0\n",
    "      }\n",
    "    }\n",
    "  },\n",
    "  \"spm_units\": {\n",
    "    \"your household\": {\n",
    "      \"members\": [\n",
    "        \"you\",\n",
    "        \"your first dependent\"\n",
    "      ]\n",
    "    }\n",
    "  },\n",
    "  \"tax_units\": {\n",
    "    \"your tax unit\": {\n",
    "      \"members\": [\n",
    "        \"you\",\n",
    "        \"your first dependent\"\n",
    "      ]\n",
    "    }\n",
    "  }\n",
    "}\n",
    "\n",
    "simulation = Simulation(\n",
    "    situation=situation,\n",
    ")\n",
    "\n",
    "simulation.calculate(\"ca_yctc\", 2026)"
   ]
  },
  {
   "cell_type": "code",
   "execution_count": 4,
   "metadata": {},
   "outputs": [
    {
     "name": "stdout",
     "output_type": "stream",
     "text": [
      "\n",
      "ineligible_age\n",
      "2021-01-01: 6\n",
      "2015-01-01: 6\n",
      "\n",
      "loss_threshold\n",
      "2029-01-01: 39332.72463194931\n",
      "2028-01-01: 38594.77482647184\n",
      "2027-01-01: 37846.28288091612\n",
      "2026-01-01: 37045.08023496915\n",
      "2025-01-01: 36386.3194717128\n",
      "2024-01-01: 35412.05002614789\n",
      "2023-01-01: 33497\n",
      "2022-01-01: 32490\n",
      "2021-01-01: 0\n",
      "2015-01-01: 0\n",
      "\n",
      "phase_out\n",
      "amount:\n",
      "  2022-01-01: 21.66\n",
      "  2021-01-01: 20\n",
      "  2015-01-01: 20\n",
      "increment:\n",
      "  2019-01-01: 100\n",
      "  2015-01-01: 100\n",
      "start:\n",
      "  2029-01-01: 30265.42607960395\n",
      "  2028-01-01: 29697.59444584027\n",
      "  2027-01-01: 29121.650931594264\n",
      "  2026-01-01: 28505.14801493656\n",
      "  2025-01-01: 27998.25012339605\n",
      "  2024-01-01: 27248.57716881995\n",
      "  2023-01-01: 25775\n",
      "  2019-01-01: 25000\n",
      "  2015-01-01: 25000\n",
      "\n",
      "amount\n",
      "2029-01-01: 1311.5996481442332\n",
      "2028-01-01: 1286.9917748207015\n",
      "2027-01-01: 1262.0323604496914\n",
      "2026-01-01: 1235.3152408412857\n",
      "2025-01-01: 1213.3480266860674\n",
      "2024-01-01: 1180.8597748815473\n",
      "2023-01-01: 1117\n",
      "2022-01-01: 1083\n",
      "2021-01-01: 1000\n",
      "2015-01-01: 1000\n"
     ]
    }
   ],
   "source": [
    "params = simulation.tax_benefit_system.parameters\n",
    "ca_yctc_param_link = params.gov.states.ca.tax.income.credits.young_child\n",
    "\n",
    "ca_yctc_params = [\n",
    "    \"ineligible_age\",\n",
    "    \"loss_threshold\",\n",
    "    \"phase_out\",\n",
    "    \"amount\"\n",
    "]\n",
    "\n",
    "for param in ca_yctc_params:\n",
    "  print()\n",
    "  print(param)\n",
    "  print(getattr(ca_yctc_param_link, param))"
   ]
  },
  {
   "cell_type": "code",
   "execution_count": 5,
   "metadata": {},
   "outputs": [
    {
     "name": "stdout",
     "output_type": "stream",
     "text": [
      "2029-01-01: 389.88092137114637\n",
      "2028-01-01: 382.56608232103105\n",
      "2027-01-01: 375.14674557019987\n",
      "2026-01-01: 367.20492031578897\n",
      "2025-01-01: 360.6750331608849\n",
      "2024-01-01: 351.0177039863873\n",
      "2023-01-01: 332.035\n",
      "2022-01-01: 322.043\n",
      "2021-01-01: 297.447\n",
      "2020-01-01: 284.835\n",
      "2019-01-01: 280.956\n",
      "2015-01-01: 280.956\n"
     ]
    }
   ],
   "source": [
    "print(params.gov.states.ca.cpi)"
   ]
  }
 ],
 "metadata": {
  "kernelspec": {
   "display_name": "cross-pkg-test-3.11",
   "language": "python",
   "name": "python3"
  },
  "language_info": {
   "codemirror_mode": {
    "name": "ipython",
    "version": 3
   },
   "file_extension": ".py",
   "mimetype": "text/x-python",
   "name": "python",
   "nbconvert_exporter": "python",
   "pygments_lexer": "ipython3",
   "version": "3.11.10"
  }
 },
 "nbformat": 4,
 "nbformat_minor": 2
}
