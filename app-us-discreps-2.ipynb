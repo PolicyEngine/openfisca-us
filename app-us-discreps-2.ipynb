{
 "cells": [
  {
   "cell_type": "code",
   "execution_count": 1,
   "metadata": {},
   "outputs": [
    {
     "name": "stdout",
     "output_type": "stream",
     "text": [
      "['__annotations__', '__class__', '__delattr__', '__dict__', '__dir__', '__doc__', '__eq__', '__format__', '__ge__', '__getattribute__', '__getstate__', '__gt__', '__hash__', '__init__', '__init_subclass__', '__le__', '__lt__', '__module__', '__ne__', '__new__', '__reduce__', '__reduce_ex__', '__repr__', '__setattr__', '__sizeof__', '__str__', '__subclasshook__', '__weakref__', '_base_tax_benefit_system', '_get_baseline_parameters_at_instant', '_parameters_at_instant_cache', 'add_abolition_parameters', 'add_modelled_policy_metadata', 'add_variable', 'add_variable_metadata_from_folder', 'add_variables', 'add_variables_from_directory', 'add_variables_from_file', 'annualize_variable', 'apply_reform', 'apply_reform_set', 'auto_carry_over_input_variables', 'base_tax_benefit_system', 'baseline', 'basic_inputs', 'cache_blacklist', 'clone', 'data_modified', 'decomposition_file_path', 'entities', 'entities_by_singular', 'entities_plural', 'get_package_metadata', 'get_parameters_at_instant', 'get_variable', 'get_variables', 'group_entities', 'group_entity_keys', 'instantiate_entities', 'load_extension', 'load_parameters', 'load_variable', 'modelled_policies', 'modify_parameters', 'neutralize_variable', 'parameters', 'parameters_dir', 'person_entity', 'person_key_plural', 'preprocess_parameters', 'replace_variable', 'simulation', 'test', 'update_variable', 'variable_module_metadata', 'variables', 'variables_dir']\n",
      "['__abstractmethods__', '__annotations__', '__call__', '__class__', '__delattr__', '__dict__', '__dir__', '__doc__', '__eq__', '__format__', '__ge__', '__getattribute__', '__getstate__', '__gt__', '__hash__', '__init__', '__init_subclass__', '__le__', '__lt__', '__module__', '__ne__', '__new__', '__pycache__', '__reduce__', '__reduce_ex__', '__repr__', '__setattr__', '__sizeof__', '__slots__', '__str__', '__subclasshook__', '__weakref__', '_abc_impl', '_allowed_keys', '_at_instant_cache', '_get_at_instant', 'add_child', 'attach_to_parent', 'branch_name', 'calibration', 'children', 'clear_parent_cache', 'clone', 'description', 'documentation', 'file_path', 'get_at_instant', 'get_child', 'get_descendants', 'gov', 'household', 'mark_as_modified', 'merge', 'metadata', 'modified', 'name', 'openfisca', 'parent', 'simulation', 'trace', 'tracer']\n"
     ]
    }
   ],
   "source": [
    "from policyengine_us import Microsimulation\n",
    "from policyengine_core.reforms import Reform\n",
    "\n",
    "baseline = Microsimulation()\n",
    "tbs = baseline.tax_benefit_system\n",
    "params = tbs.parameters\n",
    "print(dir(tbs))\n",
    "print(dir(params))"
   ]
  },
  {
   "cell_type": "code",
   "execution_count": null,
   "metadata": {},
   "outputs": [
    {
     "name": "stdout",
     "output_type": "stream",
     "text": [
      "<class 'policyengine_core.parameters.parameter_node_at_instant.ParameterNodeAtInstant'>\n"
     ]
    },
    {
     "ename": "ParameterNotFoundError",
     "evalue": "The parameter 'None' was not found in the 2024-01-01 tax and benefit system.",
     "output_type": "error",
     "traceback": [
      "\u001b[0;31m---------------------------------------------------------------------------\u001b[0m",
      "\u001b[0;31mParameterNotFoundError\u001b[0m                    Traceback (most recent call last)",
      "Cell \u001b[0;32mIn[3], line 3\u001b[0m\n\u001b[1;32m      1\u001b[0m params_at_instant \u001b[38;5;241m=\u001b[39m params(\u001b[38;5;124m\"\u001b[39m\u001b[38;5;124m2024-01-01\u001b[39m\u001b[38;5;124m\"\u001b[39m)\n\u001b[1;32m      2\u001b[0m \u001b[38;5;28mprint\u001b[39m(\u001b[38;5;28mtype\u001b[39m(params_at_instant))\n\u001b[0;32m----> 3\u001b[0m \u001b[38;5;28mprint\u001b[39m(\u001b[43mparams_at_instant\u001b[49m\u001b[38;5;241;43m.\u001b[39;49m\u001b[43mkeys\u001b[49m())\n",
      "File \u001b[0;32m/opt/miniconda3/envs/us-3.11/lib/python3.11/site-packages/policyengine_core/parameters/parameter_node_at_instant.py:51\u001b[0m, in \u001b[0;36mParameterNodeAtInstant.__getattr__\u001b[0;34m(self, key)\u001b[0m\n\u001b[1;32m     49\u001b[0m     \u001b[38;5;28;01mraise\u001b[39;00m \u001b[38;5;167;01mAttributeError\u001b[39;00m(key)\n\u001b[1;32m     50\u001b[0m param_name \u001b[38;5;241m=\u001b[39m helpers\u001b[38;5;241m.\u001b[39m_compose_name(\u001b[38;5;28mself\u001b[39m\u001b[38;5;241m.\u001b[39m_name, item_name\u001b[38;5;241m=\u001b[39mkey)\n\u001b[0;32m---> 51\u001b[0m \u001b[38;5;28;01mraise\u001b[39;00m ParameterNotFoundError(param_name, \u001b[38;5;28mself\u001b[39m\u001b[38;5;241m.\u001b[39m_instant_str)\n",
      "\u001b[0;31mParameterNotFoundError\u001b[0m: The parameter 'None' was not found in the 2024-01-01 tax and benefit system."
     ]
    }
   ],
   "source": [
    "params_at_instant = params(\"2024-01-01\")\n",
    "print(type(params_at_instant))"
   ]
  }
 ],
 "metadata": {
  "kernelspec": {
   "display_name": "us-3.11",
   "language": "python",
   "name": "python3"
  },
  "language_info": {
   "codemirror_mode": {
    "name": "ipython",
    "version": 3
   },
   "file_extension": ".py",
   "mimetype": "text/x-python",
   "name": "python",
   "nbconvert_exporter": "python",
   "pygments_lexer": "ipython3",
   "version": "3.11.10"
  }
 },
 "nbformat": 4,
 "nbformat_minor": 2
}
