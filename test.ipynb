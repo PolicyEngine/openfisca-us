{
 "cells": [
  {
   "cell_type": "code",
   "execution_count": 1,
   "metadata": {},
   "outputs": [
    {
     "name": "stderr",
     "output_type": "stream",
     "text": [
      "Calibrating weights | Loss = 0.004: 100%|██████████| 10000/10000 [00:42<00:00, 233.97it/s]\n",
      "Calibrating weights | Loss = 0.004: 100%|██████████| 10000/10000 [00:41<00:00, 240.84it/s]\n",
      "Calibrating weights | Loss = 0.004: 100%|██████████| 10000/10000 [00:43<00:00, 230.50it/s]\n",
      "Calibrating weights | Loss = 0.005: 100%|██████████| 10000/10000 [00:42<00:00, 237.95it/s]\n"
     ]
    }
   ],
   "source": [
    "from policyengine_us.data import (\n",
    "    CPS_2022,\n",
    "    EnhancedCPS_2022,\n",
    "    CalibratedPUFExtendedCPS_2022,\n",
    ")\n",
    "\n",
    "CalibratedPUFExtendedCPS_2022().generate()"
   ]
  },
  {
   "cell_type": "code",
   "execution_count": 3,
   "metadata": {},
   "outputs": [],
   "source": [
    "from policyengine_us import Microsimulation\n",
    "\n",
    "sim = Microsimulation(dataset=\"calibrated_puf_extended_cps_2022\")"
   ]
  },
  {
   "cell_type": "code",
   "execution_count": 7,
   "metadata": {},
   "outputs": [],
   "source": [
    "poverty = sim.calculate(\"in_poverty\", map_to=\"person\", period=2023)"
   ]
  },
  {
   "cell_type": "code",
   "execution_count": 8,
   "metadata": {},
   "outputs": [],
   "source": [
    "child = sim.calculate(\"is_child\", 2023)"
   ]
  },
  {
   "cell_type": "code",
   "execution_count": 9,
   "metadata": {},
   "outputs": [
    {
     "data": {
      "text/plain": [
       "'7.4%'"
      ]
     },
     "execution_count": 9,
     "metadata": {},
     "output_type": "execute_result"
    }
   ],
   "source": [
    "f\"{poverty[child].mean():.1%}\""
   ]
  }
 ],
 "metadata": {
  "kernelspec": {
   "display_name": "policyengine",
   "language": "python",
   "name": "python3"
  },
  "language_info": {
   "codemirror_mode": {
    "name": "ipython",
    "version": 3
   },
   "file_extension": ".py",
   "mimetype": "text/x-python",
   "name": "python",
   "nbconvert_exporter": "python",
   "pygments_lexer": "ipython3",
   "version": "3.9.12"
  }
 },
 "nbformat": 4,
 "nbformat_minor": 2
}
