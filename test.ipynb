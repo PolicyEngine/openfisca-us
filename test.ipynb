{
 "cells": [
  {
   "cell_type": "code",
   "execution_count": 3,
   "metadata": {},
   "outputs": [
    {
     "name": "stdout",
     "output_type": "stream",
     "text": [
      "Loading PUF and demographics\n",
      "Imputing missing demographics\n",
      "Generating PUF-style CPS\n",
      "Imputing PUF financials to CPS\n",
      "Projecting tax unit CPS to person level\n",
      "Done\n"
     ]
    },
    {
     "name": "stderr",
     "output_type": "stream",
     "text": [
      "Calibrating weights | Loss = nan: 100%|██████████| 10000/10000 [03:04<00:00, 54.08it/s]\n"
     ]
    }
   ],
   "source": [
    "from policyengine_us.data import (\n",
    "    CPS_2022,\n",
    "    EnhancedCPS_2022,\n",
    "    CalibratedPUFExtendedCPS_2022,\n",
    ")\n",
    "\n",
    "CalibratedPUFExtendedCPS_2022().generate()\n",
    "EnhancedCPS_2022().generate()"
   ]
  },
  {
   "cell_type": "code",
   "execution_count": null,
   "metadata": {},
   "outputs": [],
   "source": []
  }
 ],
 "metadata": {
  "kernelspec": {
   "display_name": "policyengine",
   "language": "python",
   "name": "python3"
  },
  "language_info": {
   "codemirror_mode": {
    "name": "ipython",
    "version": 3
   },
   "file_extension": ".py",
   "mimetype": "text/x-python",
   "name": "python",
   "nbconvert_exporter": "python",
   "pygments_lexer": "ipython3",
   "version": "3.9.16"
  }
 },
 "nbformat": 4,
 "nbformat_minor": 2
}
