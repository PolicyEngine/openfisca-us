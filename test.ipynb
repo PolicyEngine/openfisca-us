{
 "cells": [
  {
   "cell_type": "code",
   "execution_count": 1,
   "metadata": {},
   "outputs": [
    {
     "name": "stdout",
     "output_type": "stream",
     "text": [
      "Solving for mean quantile for employment_income_last_year\n",
      "Iteration 0: 0.5000 (pred aggregate: 9359.3bn, target: 9022.4bn)\n",
      "Iteration 1: 0.2500 (pred aggregate: 5060.1bn, target: 9022.4bn)\n",
      "Iteration 2: 0.3750 (pred aggregate: 7174.8bn, target: 9022.4bn)\n",
      "Iteration 3: 0.4375 (pred aggregate: 8249.3bn, target: 9022.4bn)\n",
      "Iteration 4: 0.4688 (pred aggregate: 8769.3bn, target: 9022.4bn)\n",
      "Iteration 5: 0.4844 (pred aggregate: 9054.0bn, target: 9022.4bn)\n",
      "Solving for mean quantile for self_employment_income_last_year\n",
      "Iteration 0: 0.5000 (pred aggregate: 355.0bn, target: 485.6bn)\n",
      "Iteration 1: 0.7500 (pred aggregate: 870.7bn, target: 485.6bn)\n",
      "Iteration 2: 0.6250 (pred aggregate: 541.0bn, target: 485.6bn)\n",
      "Iteration 3: 0.5625 (pred aggregate: 462.6bn, target: 485.6bn)\n",
      "Iteration 4: 0.5938 (pred aggregate: 494.9bn, target: 485.6bn)\n",
      "Iteration 5: 0.5781 (pred aggregate: 457.5bn, target: 485.6bn)\n",
      "Solving for mean quantile for employment_income_last_year\n",
      "Iteration 0: 0.5000 (pred aggregate: 8924.6bn, target: 9752.0bn)\n",
      "Iteration 1: 0.7500 (pred aggregate: 13071.8bn, target: 9752.0bn)\n",
      "Iteration 2: 0.6250 (pred aggregate: 10757.7bn, target: 9752.0bn)\n",
      "Iteration 3: 0.5625 (pred aggregate: 9846.4bn, target: 9752.0bn)\n",
      "Iteration 4: 0.5312 (pred aggregate: 9320.5bn, target: 9752.0bn)\n",
      "Iteration 5: 0.5469 (pred aggregate: 9628.7bn, target: 9752.0bn)\n",
      "Solving for mean quantile for self_employment_income_last_year\n",
      "Iteration 0: 0.5000 (pred aggregate: 316.9bn, target: 560.4bn)\n",
      "Iteration 1: 0.7500 (pred aggregate: 733.2bn, target: 560.4bn)\n",
      "Iteration 2: 0.6250 (pred aggregate: 451.9bn, target: 560.4bn)\n",
      "Iteration 3: 0.6875 (pred aggregate: 594.2bn, target: 560.4bn)\n",
      "Iteration 4: 0.6562 (pred aggregate: 502.1bn, target: 560.4bn)\n",
      "Iteration 5: 0.6719 (pred aggregate: 533.6bn, target: 560.4bn)\n",
      "Solving for mean quantile for employment_income_last_year\n",
      "Iteration 0: 0.5000 (pred aggregate: 8736.7bn, target: 10358.7bn)\n",
      "Iteration 1: 0.7500 (pred aggregate: 12933.6bn, target: 10358.7bn)\n",
      "Iteration 2: 0.6250 (pred aggregate: 10544.0bn, target: 10358.7bn)\n",
      "Iteration 3: 0.5625 (pred aggregate: 9688.4bn, target: 10358.7bn)\n",
      "Iteration 4: 0.5938 (pred aggregate: 10201.6bn, target: 10358.7bn)\n",
      "Iteration 5: 0.6094 (pred aggregate: 10401.8bn, target: 10358.7bn)\n",
      "Solving for mean quantile for self_employment_income_last_year\n",
      "Iteration 0: 0.5000 (pred aggregate: 298.6bn, target: 578.1bn)\n",
      "Iteration 1: 0.7500 (pred aggregate: 678.2bn, target: 578.1bn)\n",
      "Iteration 2: 0.6250 (pred aggregate: 437.1bn, target: 578.1bn)\n",
      "Iteration 3: 0.6875 (pred aggregate: 527.9bn, target: 578.1bn)\n",
      "Iteration 4: 0.7188 (pred aggregate: 617.5bn, target: 578.1bn)\n",
      "Iteration 5: 0.7031 (pred aggregate: 603.9bn, target: 578.1bn)\n",
      "Solving for mean quantile for employment_income_last_year\n",
      "Iteration 0: 0.5000 (pred aggregate: 8679.5bn, target: 10858.7bn)\n",
      "Iteration 1: 0.7500 (pred aggregate: 12816.8bn, target: 10858.7bn)\n",
      "Iteration 2: 0.6250 (pred aggregate: 10452.7bn, target: 10858.7bn)\n",
      "Iteration 3: 0.6875 (pred aggregate: 11455.2bn, target: 10858.7bn)\n",
      "Iteration 4: 0.6562 (pred aggregate: 11022.0bn, target: 10858.7bn)\n",
      "Iteration 5: 0.6406 (pred aggregate: 10697.6bn, target: 10858.7bn)\n",
      "Solving for mean quantile for self_employment_income_last_year\n",
      "Iteration 0: 0.5000 (pred aggregate: 266.1bn, target: 609.3bn)\n",
      "Iteration 1: 0.7500 (pred aggregate: 668.0bn, target: 609.3bn)\n",
      "Iteration 2: 0.6250 (pred aggregate: 425.0bn, target: 609.3bn)\n",
      "Iteration 3: 0.6875 (pred aggregate: 523.5bn, target: 609.3bn)\n",
      "Iteration 4: 0.7188 (pred aggregate: 588.0bn, target: 609.3bn)\n",
      "Iteration 5: 0.7344 (pred aggregate: 592.8bn, target: 609.3bn)\n"
     ]
    }
   ],
   "source": [
    "from policyengine_us.data import EnhancedCPS_2022\n",
    "\n",
    "EnhancedCPS_2022().generate()"
   ]
  }
 ],
 "metadata": {
  "language_info": {
   "name": "python"
  }
 },
 "nbformat": 4,
 "nbformat_minor": 2
}
