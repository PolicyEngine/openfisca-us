{
 "cells": [
  {
   "cell_type": "code",
   "execution_count": 3,
   "metadata": {},
   "outputs": [
    {
     "name": "stdout",
     "output_type": "stream",
     "text": [
      "Loading PUF and demographics\n",
      "Imputing missing demographics\n",
      "Generating PUF-style CPS\n",
      "Imputing PUF financials to CPS\n",
      "Projecting tax unit CPS to person level\n",
      "Done\n"
     ]
    },
    {
     "name": "stderr",
     "output_type": "stream",
     "text": [
      "Calibrating weights | Loss = nan: 100%|██████████| 10000/10000 [03:04<00:00, 54.08it/s]\n"
     ]
    }
   ],
   "source": [
    "from policyengine_us.data import (\n",
    "    CPS_2022,\n",
    "    EnhancedCPS_2022,\n",
    "    CalibratedPUFExtendedCPS_2022,\n",
    ")\n",
    "\n",
    "CalibratedPUFExtendedCPS_2022().generate()\n",
    "EnhancedCPS_2022().generate()"
   ]
  },
  {
   "cell_type": "code",
   "execution_count": null,
   "metadata": {},
   "outputs": [
    {
     "ename": "",
     "evalue": "",
     "output_type": "error",
     "traceback": [
      "\u001b[1;31mRunning cells with 'policyengine (Python 3.9.16)' requires the ipykernel package.\n",
      "\u001b[1;31mRun the following command to install 'ipykernel' into the Python environment. \n",
      "\u001b[1;31mCommand: 'conda install -n policyengine ipykernel --update-deps --force-reinstall'"
     ]
    }
   ],
   "source": [
    "from policyengine_us.data import CalibratedPUFExtendedCPS_2022\n",
    "\n",
    "CalibratedPUFExtendedCPS_2022().generate()\n",
    "# Then rename calibrated_puf_extended_cps_2022.h5 to enhanced_cps_2022.h5 and upload"
   ]
  },
  {
   "cell_type": "code",
   "execution_count": 11,
   "metadata": {},
   "outputs": [],
   "source": [
    "from policyengine_us import Microsimulation\n",
    "from policyengine_core.reforms import Reform\n",
    "from policyengine_core.periods import instant"
   ]
  },
  {
   "cell_type": "code",
   "execution_count": 12,
   "metadata": {},
   "outputs": [
    {
     "data": {
      "text/plain": [
       "0.0"
      ]
     },
     "execution_count": 12,
     "metadata": {},
     "output_type": "execute_result"
    }
   ],
   "source": [
    "def use_reported_state_income_tax(parameters):\n",
    "    parameters.simulation.reported_state_income_tax.update(\n",
    "        start=instant(\"2024-01-01\"), stop=instant(\"2024-12-31\"), value=True\n",
    "    )\n",
    "    return parameters\n",
    "\n",
    "\n",
    "class baseline_reform(Reform):\n",
    "    def apply(self):\n",
    "        self.modify_parameters(use_reported_state_income_tax)\n",
    "\n",
    "\n",
    "sim = Microsimulation(reform=baseline_reform)\n",
    "sim.calc(\"irs_employment_income\", period=2024).min()"
   ]
  },
  {
   "cell_type": "code",
   "execution_count": 21,
   "metadata": {},
   "outputs": [
    {
     "data": {
      "text/plain": [
       "-5936.919"
      ]
     },
     "execution_count": 21,
     "metadata": {},
     "output_type": "execute_result"
    }
   ],
   "source": [
    "sim.calc(\"household_tax_before_refundable_credits\", period=2024).min()"
   ]
  },
  {
   "cell_type": "code",
   "execution_count": 15,
   "metadata": {},
   "outputs": [
    {
     "data": {
      "text/plain": [
       "0.0"
      ]
     },
     "execution_count": 15,
     "metadata": {},
     "output_type": "execute_result"
    }
   ],
   "source": [
    "sim.calc(\"employee_payroll_tax\", period=2024).min()"
   ]
  },
  {
   "cell_type": "code",
   "execution_count": 16,
   "metadata": {},
   "outputs": [
    {
     "data": {
      "text/plain": [
       "0.0"
      ]
     },
     "execution_count": 16,
     "metadata": {},
     "output_type": "execute_result"
    }
   ],
   "source": [
    "sim.calc(\"self_employment_tax\", period=2024).min()"
   ]
  },
  {
   "cell_type": "code",
   "execution_count": 20,
   "metadata": {},
   "outputs": [
    {
     "data": {
      "text/plain": [
       "-0.00019454956"
      ]
     },
     "execution_count": 20,
     "metadata": {},
     "output_type": "execute_result"
    }
   ],
   "source": [
    "sim.calc(\"income_tax_before_refundable_credits\", period=2024).min()"
   ]
  },
  {
   "cell_type": "code",
   "execution_count": 22,
   "metadata": {},
   "outputs": [
    {
     "name": "stdout",
     "output_type": "stream",
     "text": [
      "income_tax_before_credits 0.0\n",
      "net_investment_income_tax 0.0\n",
      "recapture_of_investment_credit 0.0\n",
      "unreported_payroll_tax 0.0\n",
      "qualified_retirement_penalty 0.0\n",
      "income_tax_capped_non_refundable_credits 0.0\n",
      "spm_unit_state_tax_reported -6045.521\n"
     ]
    }
   ],
   "source": [
    "# Print the min of each of these.\n",
    "COLS = [\n",
    "    \"income_tax_before_credits\",\n",
    "    \"net_investment_income_tax\",\n",
    "    \"recapture_of_investment_credit\",\n",
    "    \"unreported_payroll_tax\",\n",
    "    \"qualified_retirement_penalty\",\n",
    "    \"income_tax_capped_non_refundable_credits\",\n",
    "    \"spm_unit_state_tax_reported\",\n",
    "]\n",
    "for col in COLS:\n",
    "    print(col, sim.calc(col, period=2024).min())"
   ]
  },
  {
   "cell_type": "code",
   "execution_count": null,
   "metadata": {},
   "outputs": [],
   "source": []
  }
 ],
 "metadata": {
  "kernelspec": {
   "display_name": "policyengine",
   "language": "python",
   "name": "python3"
  },
  "language_info": {
   "codemirror_mode": {
    "name": "ipython",
    "version": 3
   },
   "file_extension": ".py",
   "mimetype": "text/x-python",
   "name": "python",
   "nbconvert_exporter": "python",
   "pygments_lexer": "ipython3",
   "version": "3.9.16"
  }
 },
 "nbformat": 4,
 "nbformat_minor": 2
}
