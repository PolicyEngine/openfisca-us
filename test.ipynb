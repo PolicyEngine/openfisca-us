{
 "cells": [
  {
   "cell_type": "code",
   "execution_count": 1,
   "metadata": {},
   "outputs": [
    {
     "name": "stdout",
     "output_type": "stream",
     "text": [
      "Imputing employment_income_last_year...\n",
      "PREDICTED: 8029.7 (target: 9946.9)\n",
      "Iteration 0: 0.5000 (loss: 3675846500076749403979776.0000)\n",
      "PREDICTED: 14095.1 (target: 9946.9)\n",
      "Iteration 1: 0.7500 (loss: 17206960272685547116298240.0000)\n",
      "PREDICTED: 10679.4 (target: 9946.9)\n",
      "Iteration 2: 0.6250 (loss: 536453759897114389774336.0000)\n",
      "PREDICTED: 9216.5 (target: 9946.9)\n",
      "Iteration 3: 0.5625 (loss: 533563442364961309851648.0000)\n",
      "PREDICTED: 9979.5 (target: 9946.9)\n",
      "Iteration 4: 0.5938 (loss: 1061788313632062570496.0000)\n",
      "PREDICTED: 9574.4 (target: 9946.9)\n",
      "Iteration 5: 0.5781 (loss: 138796553715890316640256.0000)\n",
      "PREDICTED: 9740.8 (target: 9946.9)\n",
      "Iteration 6: 0.5859 (loss: 42492556151645538353152.0000)\n",
      "Imputing self_employment_income_last_year...\n",
      "PREDICTED: 325.7 (target: 520.3)\n",
      "Iteration 0: 0.5000 (loss: 37852033324949742551040.0000)\n",
      "PREDICTED: 867.0 (target: 520.3)\n",
      "Iteration 1: 0.7500 (loss: 120218279228405614379008.0000)\n",
      "PREDICTED: 533.7 (target: 520.3)\n",
      "Iteration 2: 0.6250 (loss: 178350954271293374464.0000)\n",
      "PREDICTED: 401.7 (target: 520.3)\n",
      "Iteration 3: 0.5625 (loss: 14070699489417553248256.0000)\n",
      "PREDICTED: 443.7 (target: 520.3)\n",
      "Iteration 4: 0.5938 (loss: 5865682632953480347648.0000)\n",
      "PREDICTED: 500.3 (target: 520.3)\n",
      "Iteration 5: 0.6094 (loss: 398964687513611927552.0000)\n",
      "PREDICTED: 542.1 (target: 520.3)\n",
      "Iteration 6: 0.6172 (loss: 476336369303043440640.0000)\n",
      "Mean quantiles: [0.5859375, 0.6171875]\n"
     ]
    }
   ],
   "source": [
    "from policyengine_us.data import EnhancedCPS_2023\n",
    "\n",
    "EnhancedCPS_2023().generate()"
   ]
  },
  {
   "cell_type": "code",
   "execution_count": 1,
   "metadata": {},
   "outputs": [],
   "source": [
    "from policyengine_us.data.datasets.cps.enhanced_cps.enhanced_cps import (\n",
    "    CalibratedPUFExtendedCPS,\n",
    ")\n",
    "from policyengine_us.data.datasets.cps.enhanced_cps import PUFExtendedCPS_2023\n",
    "from policyengine_us.data.datasets.cps import CPS_2023\n",
    "from policyengine_us import Microsimulation\n",
    "\n",
    "sim = Microsimulation(dataset=\"enhanced_cps_2023\")"
   ]
  },
  {
   "cell_type": "code",
   "execution_count": 2,
   "metadata": {},
   "outputs": [
    {
     "name": "stdout",
     "output_type": "stream",
     "text": [
      "running formula\n",
      "running formula\n",
      "running formula\n",
      "Uprating factor: 1.049376508447305, last year: 10438094949812.812, year before last: 9946949322562.395\n",
      "Uprating factor: 1.047532343076186, last year: 10934242060029.12, year before last: 10438094949812.812\n",
      "Uprating factor: 1.0489433720611105, last year: 11469400737379.367, year before last: 10934242060029.12\n"
     ]
    },
    {
     "data": {
      "text/plain": [
       "11318.7302446786"
      ]
     },
     "execution_count": 2,
     "metadata": {},
     "output_type": "execute_result"
    }
   ],
   "source": [
    "sim.calculate(\"employment_income_last_year\", 2026).sum() / 1e9"
   ]
  },
  {
   "cell_type": "code",
   "execution_count": 8,
   "metadata": {},
   "outputs": [
    {
     "data": {
      "text/plain": [
       "3459.784150794521"
      ]
     },
     "execution_count": 8,
     "metadata": {},
     "output_type": "execute_result"
    }
   ],
   "source": [
    "sim.calculate(\"spm_unit_spm_threshold\", 2023).sum() / 1e9"
   ]
  },
  {
   "cell_type": "code",
   "execution_count": null,
   "metadata": {},
   "outputs": [],
   "source": []
  }
 ],
 "metadata": {
  "kernelspec": {
   "display_name": "base",
   "language": "python",
   "name": "python3"
  },
  "language_info": {
   "codemirror_mode": {
    "name": "ipython",
    "version": 3
   },
   "file_extension": ".py",
   "mimetype": "text/x-python",
   "name": "python",
   "nbconvert_exporter": "python",
   "pygments_lexer": "ipython3",
   "version": "3.9.12"
  }
 },
 "nbformat": 4,
 "nbformat_minor": 2
}
