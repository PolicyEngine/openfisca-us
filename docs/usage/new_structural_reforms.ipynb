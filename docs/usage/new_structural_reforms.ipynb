{
 "cells": [
  {
   "cell_type": "markdown",
   "metadata": {},
   "source": [
    "# New Structural Reform Interface\n",
    "This notebook is meant to demonstrate an under-construction interface for structural reforms. This notebook will be refactored or removed before being placed in production.\n",
    "\n",
    "## Getting Started\n",
    "To test out the new structural reform implementation:\n",
    "1. Pip install this package in editable mode in a fresh Python environment.\n",
    "1. In a separate window in VSCode or another editor, clone [this PR](https://github.com/PolicyEngine/policyengine-core/pull/329) from Anthony Volk's fork of `policyengine-core` and pip install it in editable mode into the same environment (note - this is critical to properly running).\n",
    "\n",
    "## Introducing StructuralReform\n",
    "The above changes to `-core` introduce a new class, `StructuralReform`, meant to improve upon how PolicyEngine develops new structural reforms. This class should remove some of the bloat & repetitiveness of structural reform development and add new features, while maintaining a familiar enough interface to allow easy porting of our existing codebase.\n",
    "\n",
    "Let's imagine we're creating a sample reform. This reform will be simple: we will vastly reduce the EITC by altering the EITC variable to provide $4 to every tax unit that qualifies for it under current government rules. To get started, we will create a new file in the `reforms` folder, like with the old structural reform interface. Unlike with the old interface, we can separate variables into distinct files, as with parametric reforms.\n",
    "\n",
    "The below shows a sample file containing our new EITC variable. Note: do not run the cell, as it will not function properly."
   ]
  },
  {
   "cell_type": "code",
   "execution_count": 1,
   "metadata": {},
   "outputs": [
    {
     "name": "stderr",
     "output_type": "stream",
     "text": [
      "/opt/miniconda3/envs/struct-3.10/lib/python3.10/site-packages/tqdm/auto.py:21: TqdmWarning: IProgress not found. Please update jupyter and ipywidgets. See https://ipywidgets.readthedocs.io/en/stable/user_install.html\n",
      "  from .autonotebook import tqdm as notebook_tqdm\n"
     ]
    },
    {
     "name": "stdout",
     "output_type": "stream",
     "text": [
      "eitc_reform.py\n"
     ]
    },
    {
     "ename": "KeyboardInterrupt",
     "evalue": "",
     "output_type": "error",
     "traceback": [
      "\u001b[0;31m---------------------------------------------------------------------------\u001b[0m",
      "\u001b[0;31mKeyboardInterrupt\u001b[0m                         Traceback (most recent call last)",
      "Cell \u001b[0;32mIn[1], line 3\u001b[0m\n\u001b[1;32m      1\u001b[0m \u001b[38;5;66;03m# policyengine_us/reforms/example_variables/eitc.py\u001b[39;00m\n\u001b[0;32m----> 3\u001b[0m \u001b[38;5;28;01mfrom\u001b[39;00m \u001b[38;5;21;01mpolicyengine_us\u001b[39;00m\u001b[38;5;21;01m.\u001b[39;00m\u001b[38;5;21;01mmodel_api\u001b[39;00m \u001b[38;5;28;01mimport\u001b[39;00m \u001b[38;5;241m*\u001b[39m\n\u001b[1;32m      5\u001b[0m \u001b[38;5;28;01mclass\u001b[39;00m \u001b[38;5;21;01meitc\u001b[39;00m(Variable):\n\u001b[1;32m      7\u001b[0m     \u001b[38;5;28;01mdef\u001b[39;00m \u001b[38;5;21mformula\u001b[39m(tax_unit, period, parameters):\n",
      "File \u001b[0;32m~/Documents/PolicyEngine/policyengine-us/policyengine_us/__init__.py:11\u001b[0m\n\u001b[1;32m      1\u001b[0m \u001b[38;5;124;03m\"\"\"\u001b[39;00m\n\u001b[1;32m      2\u001b[0m \u001b[38;5;124;03mThis file defines our country's tax and benefit system.\u001b[39;00m\n\u001b[1;32m      3\u001b[0m \n\u001b[0;32m   (...)\u001b[0m\n\u001b[1;32m      8\u001b[0m \u001b[38;5;124;03mSee https://openfisca.org/doc/key-concepts/tax_and_benefit_system.html\u001b[39;00m\n\u001b[1;32m      9\u001b[0m \u001b[38;5;124;03m\"\"\"\u001b[39;00m\n\u001b[0;32m---> 11\u001b[0m \u001b[38;5;28;01mfrom\u001b[39;00m \u001b[38;5;21;01mpolicyengine_us\u001b[39;00m\u001b[38;5;21;01m.\u001b[39;00m\u001b[38;5;21;01msystem\u001b[39;00m \u001b[38;5;28;01mimport\u001b[39;00m (\n\u001b[1;32m     12\u001b[0m     CountryTaxBenefitSystem,\n\u001b[1;32m     13\u001b[0m     Simulation,\n\u001b[1;32m     14\u001b[0m     Microsimulation,\n\u001b[1;32m     15\u001b[0m     IndividualSim,\n\u001b[1;32m     16\u001b[0m )\n",
      "File \u001b[0;32m~/Documents/PolicyEngine/policyengine-us/policyengine_us/system.py:120\u001b[0m\n\u001b[1;32m    115\u001b[0m     \u001b[38;5;28;01mdef\u001b[39;00m \u001b[38;5;21madd_possible_structural_reforms\u001b[39m(\u001b[38;5;28mself\u001b[39m):\n\u001b[1;32m    117\u001b[0m         \u001b[38;5;28mself\u001b[39m\u001b[38;5;241m.\u001b[39mpossible_structural_reforms: \u001b[38;5;28mlist\u001b[39m[StructuralReform] \u001b[38;5;241m=\u001b[39m structural_reforms\n\u001b[0;32m--> 120\u001b[0m system \u001b[38;5;241m=\u001b[39m \u001b[43mCountryTaxBenefitSystem\u001b[49m\u001b[43m(\u001b[49m\u001b[43m)\u001b[49m\n\u001b[1;32m    123\u001b[0m \u001b[38;5;28;01mclass\u001b[39;00m \u001b[38;5;21;01mSimulation\u001b[39;00m(CoreSimulation):\n\u001b[1;32m    124\u001b[0m \u001b[38;5;250m    \u001b[39m\u001b[38;5;124;03m\"\"\"\u001b[39;00m\n\u001b[1;32m    125\u001b[0m \u001b[38;5;124;03m    A simulation of the tax-benefit system for the United States,\u001b[39;00m\n\u001b[1;32m    126\u001b[0m \u001b[38;5;124;03m    defined against the base simulation class in the -core package.\u001b[39;00m\n\u001b[0;32m   (...)\u001b[0m\n\u001b[1;32m    136\u001b[0m \u001b[38;5;124;03m        than the first day of the current year.\u001b[39;00m\n\u001b[1;32m    137\u001b[0m \u001b[38;5;124;03m    \"\"\"\u001b[39;00m\n",
      "File \u001b[0;32m~/Documents/PolicyEngine/policyengine-us/policyengine_us/system.py:76\u001b[0m, in \u001b[0;36mCountryTaxBenefitSystem.__init__\u001b[0;34m(self, reform, start_instant)\u001b[0m\n\u001b[1;32m     69\u001b[0m \u001b[38;5;28;01mdef\u001b[39;00m \u001b[38;5;21m__init__\u001b[39m(\n\u001b[1;32m     70\u001b[0m     \u001b[38;5;28mself\u001b[39m,\n\u001b[1;32m     71\u001b[0m     reform: \u001b[38;5;28mtuple\u001b[39m \u001b[38;5;241m|\u001b[39m \u001b[38;5;28;01mNone\u001b[39;00m \u001b[38;5;241m=\u001b[39m \u001b[38;5;28;01mNone\u001b[39;00m,\n\u001b[0;32m   (...)\u001b[0m\n\u001b[1;32m     74\u001b[0m     ] \u001b[38;5;241m=\u001b[39m DEFAULT_START_DATE,\n\u001b[1;32m     75\u001b[0m ):\n\u001b[0;32m---> 76\u001b[0m     \u001b[38;5;28;43msuper\u001b[39;49m\u001b[43m(\u001b[49m\u001b[43m)\u001b[49m\u001b[38;5;241;43m.\u001b[39;49m\u001b[38;5;21;43m__init__\u001b[39;49m\u001b[43m(\u001b[49m\u001b[43mentities\u001b[49m\u001b[43m,\u001b[49m\u001b[43m \u001b[49m\u001b[43mreform\u001b[49m\u001b[38;5;241;43m=\u001b[39;49m\u001b[43mreform\u001b[49m\u001b[43m)\u001b[49m\n\u001b[1;32m     77\u001b[0m     \u001b[38;5;28mself\u001b[39m\u001b[38;5;241m.\u001b[39mload_parameters(COUNTRY_DIR \u001b[38;5;241m/\u001b[39m \u001b[38;5;124m\"\u001b[39m\u001b[38;5;124mparameters\u001b[39m\u001b[38;5;124m\"\u001b[39m)\n\u001b[1;32m     78\u001b[0m     \u001b[38;5;28mself\u001b[39m\u001b[38;5;241m.\u001b[39madd_abolition_parameters()\n",
      "File \u001b[0;32m~/Documents/PolicyEngine/policyengine-core/policyengine_core/taxbenefitsystems/tax_benefit_system.py:127\u001b[0m, in \u001b[0;36mTaxBenefitSystem.__init__\u001b[0;34m(self, entities, reform)\u001b[0m\n\u001b[1;32m    124\u001b[0m \u001b[38;5;28mself\u001b[39m\u001b[38;5;241m.\u001b[39mvariable_module_metadata \u001b[38;5;241m=\u001b[39m {}\n\u001b[1;32m    126\u001b[0m \u001b[38;5;28;01mif\u001b[39;00m \u001b[38;5;28mself\u001b[39m\u001b[38;5;241m.\u001b[39mvariables_dir \u001b[38;5;129;01mis\u001b[39;00m \u001b[38;5;129;01mnot\u001b[39;00m \u001b[38;5;28;01mNone\u001b[39;00m:\n\u001b[0;32m--> 127\u001b[0m     \u001b[38;5;28;43mself\u001b[39;49m\u001b[38;5;241;43m.\u001b[39;49m\u001b[43madd_variables_from_directory\u001b[49m\u001b[43m(\u001b[49m\u001b[38;5;28;43mself\u001b[39;49m\u001b[38;5;241;43m.\u001b[39;49m\u001b[43mvariables_dir\u001b[49m\u001b[43m)\u001b[49m\n\u001b[1;32m    128\u001b[0m \u001b[38;5;28mself\u001b[39m\u001b[38;5;241m.\u001b[39mdata_modified \u001b[38;5;241m=\u001b[39m \u001b[38;5;28;01mFalse\u001b[39;00m\n\u001b[1;32m    130\u001b[0m \u001b[38;5;28;01mif\u001b[39;00m \u001b[38;5;28mself\u001b[39m\u001b[38;5;241m.\u001b[39mparameters_dir \u001b[38;5;129;01mis\u001b[39;00m \u001b[38;5;129;01mnot\u001b[39;00m \u001b[38;5;28;01mNone\u001b[39;00m:\n",
      "File \u001b[0;32m~/Documents/PolicyEngine/policyengine-core/policyengine_core/taxbenefitsystems/tax_benefit_system.py:397\u001b[0m, in \u001b[0;36mTaxBenefitSystem.add_variables_from_directory\u001b[0;34m(self, directory)\u001b[0m\n\u001b[1;32m    395\u001b[0m subdirectories \u001b[38;5;241m=\u001b[39m glob\u001b[38;5;241m.\u001b[39mglob(os\u001b[38;5;241m.\u001b[39mpath\u001b[38;5;241m.\u001b[39mjoin(directory, \u001b[38;5;124m\"\u001b[39m\u001b[38;5;124m*/\u001b[39m\u001b[38;5;124m\"\u001b[39m))\n\u001b[1;32m    396\u001b[0m \u001b[38;5;28;01mfor\u001b[39;00m subdirectory \u001b[38;5;129;01min\u001b[39;00m subdirectories:\n\u001b[0;32m--> 397\u001b[0m     \u001b[38;5;28;43mself\u001b[39;49m\u001b[38;5;241;43m.\u001b[39;49m\u001b[43madd_variables_from_directory\u001b[49m\u001b[43m(\u001b[49m\u001b[43msubdirectory\u001b[49m\u001b[43m)\u001b[49m\n",
      "File \u001b[0;32m~/Documents/PolicyEngine/policyengine-core/policyengine_core/taxbenefitsystems/tax_benefit_system.py:397\u001b[0m, in \u001b[0;36mTaxBenefitSystem.add_variables_from_directory\u001b[0;34m(self, directory)\u001b[0m\n\u001b[1;32m    395\u001b[0m subdirectories \u001b[38;5;241m=\u001b[39m glob\u001b[38;5;241m.\u001b[39mglob(os\u001b[38;5;241m.\u001b[39mpath\u001b[38;5;241m.\u001b[39mjoin(directory, \u001b[38;5;124m\"\u001b[39m\u001b[38;5;124m*/\u001b[39m\u001b[38;5;124m\"\u001b[39m))\n\u001b[1;32m    396\u001b[0m \u001b[38;5;28;01mfor\u001b[39;00m subdirectory \u001b[38;5;129;01min\u001b[39;00m subdirectories:\n\u001b[0;32m--> 397\u001b[0m     \u001b[38;5;28;43mself\u001b[39;49m\u001b[38;5;241;43m.\u001b[39;49m\u001b[43madd_variables_from_directory\u001b[49m\u001b[43m(\u001b[49m\u001b[43msubdirectory\u001b[49m\u001b[43m)\u001b[49m\n",
      "    \u001b[0;31m[... skipping similar frames: TaxBenefitSystem.add_variables_from_directory at line 397 (4 times)]\u001b[0m\n",
      "File \u001b[0;32m~/Documents/PolicyEngine/policyengine-core/policyengine_core/taxbenefitsystems/tax_benefit_system.py:397\u001b[0m, in \u001b[0;36mTaxBenefitSystem.add_variables_from_directory\u001b[0;34m(self, directory)\u001b[0m\n\u001b[1;32m    395\u001b[0m subdirectories \u001b[38;5;241m=\u001b[39m glob\u001b[38;5;241m.\u001b[39mglob(os\u001b[38;5;241m.\u001b[39mpath\u001b[38;5;241m.\u001b[39mjoin(directory, \u001b[38;5;124m\"\u001b[39m\u001b[38;5;124m*/\u001b[39m\u001b[38;5;124m\"\u001b[39m))\n\u001b[1;32m    396\u001b[0m \u001b[38;5;28;01mfor\u001b[39;00m subdirectory \u001b[38;5;129;01min\u001b[39;00m subdirectories:\n\u001b[0;32m--> 397\u001b[0m     \u001b[38;5;28;43mself\u001b[39;49m\u001b[38;5;241;43m.\u001b[39;49m\u001b[43madd_variables_from_directory\u001b[49m\u001b[43m(\u001b[49m\u001b[43msubdirectory\u001b[49m\u001b[43m)\u001b[49m\n",
      "File \u001b[0;32m~/Documents/PolicyEngine/policyengine-core/policyengine_core/taxbenefitsystems/tax_benefit_system.py:389\u001b[0m, in \u001b[0;36mTaxBenefitSystem.add_variables_from_directory\u001b[0;34m(self, directory)\u001b[0m\n\u001b[1;32m    387\u001b[0m     py_files\u001b[38;5;241m.\u001b[39mremove(init_module)\n\u001b[1;32m    388\u001b[0m     \u001b[38;5;28mself\u001b[39m\u001b[38;5;241m.\u001b[39madd_variable_metadata_from_folder(init_module)\n\u001b[0;32m--> 389\u001b[0m \u001b[38;5;28;01mif\u001b[39;00m \u001b[38;5;124m\"\u001b[39m\u001b[38;5;124mREADME.md\u001b[39m\u001b[38;5;124m\"\u001b[39m \u001b[38;5;129;01min\u001b[39;00m \u001b[43mos\u001b[49m\u001b[38;5;241;43m.\u001b[39;49m\u001b[43mlistdir\u001b[49m\u001b[43m(\u001b[49m\u001b[43mdirectory\u001b[49m\u001b[43m)\u001b[49m:\n\u001b[1;32m    390\u001b[0m     \u001b[38;5;28mself\u001b[39m\u001b[38;5;241m.\u001b[39madd_variable_metadata_from_folder(\n\u001b[1;32m    391\u001b[0m         os\u001b[38;5;241m.\u001b[39mpath\u001b[38;5;241m.\u001b[39mjoin(directory, \u001b[38;5;124m\"\u001b[39m\u001b[38;5;124mREADME.md\u001b[39m\u001b[38;5;124m\"\u001b[39m)\n\u001b[1;32m    392\u001b[0m     )\n\u001b[1;32m    393\u001b[0m \u001b[38;5;28;01mfor\u001b[39;00m py_file \u001b[38;5;129;01min\u001b[39;00m py_files:\n",
      "\u001b[0;31mKeyboardInterrupt\u001b[0m: "
     ]
    }
   ],
   "source": [
    "# policyengine_us/reforms/example_variables/eitc.py\n",
    "\n",
    "from policyengine_us.model_api import *\n",
    "\n",
    "class eitc(Variable):\n",
    "\n",
    "    def formula(tax_unit, period, parameters):\n",
    "      return 4\n"
   ]
  },
  {
   "cell_type": "markdown",
   "metadata": {},
   "source": [
    "This is accompanied by a separate file that does the following:\n",
    "* Instantiates a `StructuralReform` instance\n",
    "* Passes the initializer a string representing the parameter we'll use to trigger this reform\n",
    "* Indicates what we want to do with the variables that make up the reform\n",
    "\n",
    "The new structural reform interface allows three operations that are the same as our previous implementation:\n",
    "* Adding a variable: creating a new variable from scratch and adding it to the tax-benefit system\n",
    "* Updating a variable: taking an existing variable and replacing part of its formula (not yet metadata)\n",
    "* Neutralizing a variable: \"removing\" the variable from the calculation tree by having it return default values (usually 0)\n",
    "\n",
    "In the case of our example reform, we only want to update the existing EITC variable, as so:"
   ]
  },
  {
   "cell_type": "code",
   "execution_count": 3,
   "metadata": {},
   "outputs": [],
   "source": [
    "# policyengine_us/reforms/example_reforms/eitc_reform.py\n",
    "\n",
    "from policyengine_core.reforms import StructuralReform\n",
    "from policyengine_us.reforms.example_variables.eitc import eitc\n",
    "\n",
    "eitc_reform = StructuralReform(\"gov.contrib.example_parameters.eitc_reform\")\n",
    "eitc_reform.update_variable(eitc)\n",
    "\n",
    "# Also allowable are the below:\n",
    "# example_reform.add_variable(eitc) (if it didn't already exist in the tax-benefit system)\n",
    "# example_reform.neutralize_variable(eitc)"
   ]
  },
  {
   "cell_type": "markdown",
   "metadata": {},
   "source": [
    "For this reform to run successfully, we'd need to ensure a \"trigger parameter\" exists at `gov.contrib.example_parameters.eitc_reform`. This is a Boolean parameter that is set to `False` by default, but that a user might set to `True`. It can be set back to `False` if a user is looking to activate a reform only temporarily, but cannot be set to `True` more than once in our current implementation. Here's what this parameter might look like:"
   ]
  },
  {
   "cell_type": "markdown",
   "metadata": {},
   "source": [
    "```\n",
    "# policyengine_us/parameters/gov/contrib/example_parameters/eitc_reform.yaml\n",
    "description: Test param for test struct reform\n",
    "values:\n",
    "  2000-01-01: False\n",
    "metadata:\n",
    "  unit: bool\n",
    "  label: Test trigger param for test struct reform\n",
    "```"
   ]
  },
  {
   "cell_type": "markdown",
   "metadata": {},
   "source": [
    "We will also need to add it to `policyengine_us/reforms/reforms.py` in much the same way that we do currently. This remains under construction, but for the time being looks like this:"
   ]
  },
  {
   "cell_type": "code",
   "execution_count": 4,
   "metadata": {},
   "outputs": [
    {
     "ename": "ImportError",
     "evalue": "cannot import name 'test_reform' from 'policyengine_us.reforms.example_reforms.eitc_reform' (/Users/administrator/Documents/PolicyEngine/policyengine-us/policyengine_us/reforms/example_reforms/eitc_reform.py)",
     "output_type": "error",
     "traceback": [
      "\u001b[0;31m---------------------------------------------------------------------------\u001b[0m",
      "\u001b[0;31mImportError\u001b[0m                               Traceback (most recent call last)",
      "Cell \u001b[0;32mIn[4], line 3\u001b[0m\n\u001b[1;32m      1\u001b[0m \u001b[38;5;66;03m# policyengine_us/reforms/reforms.py\u001b[39;00m\n\u001b[0;32m----> 3\u001b[0m \u001b[38;5;28;01mfrom\u001b[39;00m \u001b[38;5;21;01mpolicyengine_us\u001b[39;00m\u001b[38;5;21;01m.\u001b[39;00m\u001b[38;5;21;01mreforms\u001b[39;00m\u001b[38;5;21;01m.\u001b[39;00m\u001b[38;5;21;01mexample_reforms\u001b[39;00m\u001b[38;5;21;01m.\u001b[39;00m\u001b[38;5;21;01meitc_reform\u001b[39;00m \u001b[38;5;28;01mimport\u001b[39;00m test_reform\n\u001b[1;32m      5\u001b[0m structural_reforms \u001b[38;5;241m=\u001b[39m [\n\u001b[1;32m      6\u001b[0m   test_reform\n\u001b[1;32m      7\u001b[0m ]\n\u001b[1;32m      9\u001b[0m \u001b[38;5;28;01mdef\u001b[39;00m \u001b[38;5;21mcreate_structural_reforms_from_parameters\u001b[39m(parameters, tax_benefit_system):\n",
      "\u001b[0;31mImportError\u001b[0m: cannot import name 'test_reform' from 'policyengine_us.reforms.example_reforms.eitc_reform' (/Users/administrator/Documents/PolicyEngine/policyengine-us/policyengine_us/reforms/example_reforms/eitc_reform.py)"
     ]
    }
   ],
   "source": [
    "# policyengine_us/reforms/reforms.py\n",
    "\n",
    "from policyengine_us.reforms.example_reforms.eitc_reform import test_reform\n",
    "\n",
    "structural_reforms = [\n",
    "  test_reform\n",
    "]\n",
    "\n",
    "def create_structural_reforms_from_parameters(parameters, tax_benefit_system):\n",
    "    for reform in structural_reforms:\n",
    "        reform.activate(\n",
    "            tax_benefit_system=tax_benefit_system,\n",
    "        )"
   ]
  },
  {
   "cell_type": "markdown",
   "metadata": {},
   "source": [
    "I've gone ahead and rigged up this reform in the repo. If done successfully, the below cell can be run and should show the impacts of our reform when applied from 2027 onward, but calculated over 2025 and 2028."
   ]
  },
  {
   "cell_type": "code",
   "execution_count": 2,
   "metadata": {},
   "outputs": [
    {
     "name": "stdout",
     "output_type": "stream",
     "text": [
      "create_structural_reforms_from_parameters\n",
      "reform.activate\n",
      "create_structural_reforms_from_parameters\n",
      "reform.activate\n",
      "create_structural_reforms_from_parameters\n",
      "reform.activate\n",
      "create_structural_reforms_from_parameters\n",
      "reform.activate\n",
      "34862057602.782974\n",
      "34862057602.782974\n",
      "452409307.43963623\n",
      "       value       weight\n",
      "0        0.0   628.313721\n",
      "1        0.0   628.313721\n",
      "2        4.0   628.313721\n",
      "3        4.0  1629.341675\n",
      "4        0.0  1198.733154\n",
      "...      ...          ...\n",
      "77421    4.0   732.707092\n",
      "77422    4.0   605.711609\n",
      "77423    4.0   400.256622\n",
      "77424    4.0   400.256622\n",
      "77425    4.0   747.214600\n",
      "\n",
      "[77426 rows x 2 columns]\n",
      "Baseline TBS struct reforms:\n",
      "[<policyengine_core.reforms.structural_reform.StructuralReform object at 0x1269180a0>]\n",
      "Reformed TBS struct reforms:\n",
      "[<policyengine_core.reforms.structural_reform.StructuralReform object at 0x1269180a0>]\n"
     ]
    }
   ],
   "source": [
    "from policyengine_us import Microsimulation\n",
    "from policyengine_core.reforms import Reform\n",
    "\n",
    "reform = Reform.from_dict({\n",
    "  \"gov.contrib.example_parameters.eitc_reform\": {\n",
    "    \"2027-01-01.2100-12-31\": True\n",
    "  }\n",
    "}, country_id=\"us\")\n",
    "\n",
    "\n",
    "baseline = Microsimulation()\n",
    "reformed = Microsimulation(reform=reform)\n",
    "\n",
    "# Calculate baseline EITC\n",
    "baseline_eitc = baseline.calculate(\"eitc\", period=2025)\n",
    "\n",
    "# Calculate EITC under a reform that doesn't take effect \n",
    "# until 2028 -> should be the same as baseline\n",
    "reformed_eitc_pre = reformed.calculate(\"eitc\", period=2025)\n",
    "\n",
    "# Calculate EITC under a reform that takes effect in 2028, where\n",
    "# the reform makes the EITC \"4\" for everyone who qualifies for it\n",
    "reformed_eitc_post = reformed.calculate(\"eitc\", period=2028)\n",
    "\n",
    "# These two should be the same value\n",
    "print(baseline_eitc.sum())\n",
    "print(reformed_eitc_pre.sum())\n",
    "\n",
    "# This one should be quite different\n",
    "print(reformed_eitc_post.sum())\n",
    "\n",
    "# This should show that each tax unit that qualifies receives $4\n",
    "print(reformed_eitc_post)\n",
    "\n",
    "print(\"Baseline TBS struct reforms:\")\n",
    "print(baseline.tax_benefit_system.possible_structural_reforms)\n",
    "print(\"Reformed TBS struct reforms:\")\n",
    "print(reformed.tax_benefit_system.possible_structural_reforms)"
   ]
  },
  {
   "cell_type": "code",
   "execution_count": 3,
   "metadata": {},
   "outputs": [
    {
     "name": "stdout",
     "output_type": "stream",
     "text": [
      "[TransformationLogItem(variable_name='eitc', variable=<class 'policyengine_us.reforms.example_variables.eitc.eitc'>, transformation='update')]\n",
      "<function eitc.formula at 0x1268e7d00>\n"
     ]
    }
   ],
   "source": [
    "for item in reformed.tax_benefit_system.possible_structural_reforms:\n",
    "    print(item.transformation_log)\n",
    "    for trans_log_item in item.transformation_log:\n",
    "        print(trans_log_item.variable.formula)"
   ]
  }
 ],
 "metadata": {
  "kernelspec": {
   "display_name": "struct-3.10",
   "language": "python",
   "name": "python3"
  },
  "language_info": {
   "codemirror_mode": {
    "name": "ipython",
    "version": 3
   },
   "file_extension": ".py",
   "mimetype": "text/x-python",
   "name": "python",
   "nbconvert_exporter": "python",
   "pygments_lexer": "ipython3",
   "version": "3.10.16"
  }
 },
 "nbformat": 4,
 "nbformat_minor": 2
}
