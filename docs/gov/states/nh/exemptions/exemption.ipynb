{
 "cells": [
  {
   "cell_type": "code",
   "execution_count": 20,
   "metadata": {},
   "outputs": [],
   "source": [
    "from policyengine_us import Simulation\n",
    "import plotly.express as px\n",
    "import pandas as pd\n",
    "\n",
    "\n",
    "LIGHT_GRAY = \"#F5F5F5\"\n",
    "GRAY = \"#BDBDBD\"\n",
    "BLUE = \"#5091cc\"\n",
    "LIGHT_BLUE = \"lightblue\"\n",
    "DARK_BLUE = \"darkblue\"\n",
    "\n",
    "COLOR_MAP = {\"0\": GRAY, \"1\": LIGHT_BLUE, \"2\": BLUE, \"3\": DARK_BLUE}\n",
    "\n",
    "# def make_exemption():\n",
    "#     sim = IndividualSim(year=2021)\n",
    "#     sim.add_person(name=\"head\", age=25)\n",
    "#     members = [\"head\"]\n",
    "#     sim.add_tax_unit(name=\"tax_unit\", members=members)\n",
    "#     sim.add_spm_unit(name=\"spm_unit\", members=members)\n",
    "#     sim.add_household(name=\"household\", members=members, state_code=\"NH\")\n",
    "#     sim.vary(\"charitable_cash_donations\", max=800_000, step=1_000) \n",
    "\n",
    "\n",
    "def create_situation(has_spouse, aged_head, blind_head, disabled_head, aged_spouse, blind_spouse, disabled_spouse):\n",
    "    situation = {\n",
    "        \"people\": {\n",
    "            \"person\": {\n",
    "                \"age\": 30,\n",
    "                \"blind\": False,\n",
    "                \"disabled\": False\n",
    "            },\n",
    "        },\n",
    "        \"tax_units\": {\n",
    "            \"tax_unit\": {\n",
    "                \"members\": [\"person\"],\n",
    "            },\n",
    "        },\n",
    "        \"households\": {\n",
    "            \"household\": {\n",
    "                \"state_code\": \"NH\",\n",
    "                \"members\": [\"person\"],\n",
    "            },\n",
    "        },\n",
    "        \"axes\": [\n",
    "            [\n",
    "                {\n",
    "                    \"name\": \"nh_taxable_income\",\n",
    "                    \"min\": 0,\n",
    "                    \"max\": 200_000,\n",
    "                    \"count\": 1000,\n",
    "                }\n",
    "            ]\n",
    "        ],\n",
    "    }\n",
    "\n",
    "    if aged_head:\n",
    "        situation[\"people\"][\"person\"][\"age\"] = 70\n",
    "    \n",
    "    if blind_head: \n",
    "            situation[\"people\"][\"person\"][\"blind\"] = True\n",
    "    \n",
    "    if disabled_head:\n",
    "        situation[\"people\"][\"person\"][\"disabled\"] = True\n",
    "    \n",
    "    if has_spouse:\n",
    "        situation[\"tax_units\"][\"tax_unit\"][\"members\"].append(\"spouse\")\n",
    "        situation[\"households\"][\"household\"][\"members\"].append(\"spouse\")\n",
    "        \n",
    "        if aged_spouse:\n",
    "            situation[\"people\"][\"spouse\"][\"age\"] = 70\n",
    "        situation[\"people\"][\"spouse\"][\"age\"] = 30\n",
    "        \n",
    "        if blind_spouse: \n",
    "            situation[\"people\"][\"spouse\"][\"blind\"] = True\n",
    "        situation[\"people\"][\"spouse\"][\"blind\"] = False\n",
    "        \n",
    "        if disabled_spouse:\n",
    "            situation[\"people\"][\"spouse\"][\"disabled\"] = True\n",
    "        situation[\"people\"][\"spouse\"][\"disabled\"] = False\n",
    "\n",
    "    return situation\n",
    "\n",
    "def create_simulation(situation):\n",
    "    return Simulation(\n",
    "        situation=situation,\n",
    "    )\n",
    "\n",
    "# single = create_simulation(create_situation(False, False, False, False, False, False, False))\n",
    "# single_aged = create_simulation(create_situation(False, True, False, False, False, False, False))\n",
    "# joint = create_simulation(create_situation(True, False, False, False, False, False, False))\n",
    "\n",
    "\n"
   ]
  },
  {
   "cell_type": "code",
   "execution_count": 21,
   "metadata": {},
   "outputs": [
    {
     "data": {
      "text/plain": [
       "{'people': {'person': {'age': 70, 'blind': False, 'disabled': False}},\n",
       " 'tax_units': {'tax_unit': {'members': ['person']}},\n",
       " 'households': {'household': {'state_code': 'NH', 'members': ['person']}},\n",
       " 'axes': [[{'name': 'nh_taxable_income',\n",
       "    'min': 0,\n",
       "    'max': 200000,\n",
       "    'count': 1000}]]}"
      ]
     },
     "execution_count": 21,
     "metadata": {},
     "output_type": "execute_result"
    }
   ],
   "source": [
    "create_situation(False, True, False, False, False, False, False)"
   ]
  },
  {
   "cell_type": "code",
   "execution_count": null,
   "metadata": {},
   "outputs": [],
   "source": []
  },
  {
   "cell_type": "code",
   "execution_count": 22,
   "metadata": {},
   "outputs": [
    {
     "ename": "AttributeError",
     "evalue": "module 'importlib' has no attribute 'metadata'",
     "output_type": "error",
     "traceback": [
      "\u001b[0;31m---------------------------------------------------------------------------\u001b[0m",
      "\u001b[0;31mAttributeError\u001b[0m                            Traceback (most recent call last)",
      "File \u001b[0;32m/opt/conda/envs/policyengine/lib/python3.9/site-packages/policyengine_core/taxbenefitsystems/tax_benefit_system.py:594\u001b[0m, in \u001b[0;36mTaxBenefitSystem.get_package_metadata\u001b[0;34m(self)\u001b[0m\n\u001b[1;32m    593\u001b[0m \u001b[39mtry\u001b[39;00m:\n\u001b[0;32m--> 594\u001b[0m     distribution \u001b[39m=\u001b[39m importlib\u001b[39m.\u001b[39;49mmetadata\u001b[39m.\u001b[39mdistribution(package_name)\n\u001b[1;32m    595\u001b[0m \u001b[39mexcept\u001b[39;00m importlib\u001b[39m.\u001b[39mmetadata\u001b[39m.\u001b[39mPackageNotFoundError:\n",
      "\u001b[0;31mAttributeError\u001b[0m: module 'importlib' has no attribute 'metadata'",
      "\nDuring handling of the above exception, another exception occurred:\n",
      "\u001b[0;31mAttributeError\u001b[0m                            Traceback (most recent call last)",
      "Cell \u001b[0;32mIn[22], line 1\u001b[0m\n\u001b[0;32m----> 1\u001b[0m single \u001b[39m=\u001b[39m create_simulation(create_situation(\u001b[39mFalse\u001b[39;49;00m, \u001b[39mFalse\u001b[39;49;00m, \u001b[39mFalse\u001b[39;49;00m, \u001b[39mFalse\u001b[39;49;00m, \u001b[39mFalse\u001b[39;49;00m, \u001b[39mFalse\u001b[39;49;00m, \u001b[39mFalse\u001b[39;49;00m))\n\u001b[1;32m      2\u001b[0m \u001b[39m# taxable_income = single.calculate(\"nh_taxable_income\")\u001b[39;00m\n",
      "Cell \u001b[0;32mIn[20], line 84\u001b[0m, in \u001b[0;36mcreate_simulation\u001b[0;34m(situation)\u001b[0m\n\u001b[1;32m     83\u001b[0m \u001b[39mdef\u001b[39;00m \u001b[39mcreate_simulation\u001b[39m(situation):\n\u001b[0;32m---> 84\u001b[0m     \u001b[39mreturn\u001b[39;00m Simulation(\n\u001b[1;32m     85\u001b[0m         situation\u001b[39m=\u001b[39;49msituation,\n\u001b[1;32m     86\u001b[0m     )\n",
      "File \u001b[0;32m/workspaces/policyengine-us/policyengine_us/system.py:68\u001b[0m, in \u001b[0;36mSimulation.__init__\u001b[0;34m(self, *args, **kwargs)\u001b[0m\n\u001b[1;32m     67\u001b[0m \u001b[39mdef\u001b[39;00m \u001b[39m__init__\u001b[39m(\u001b[39mself\u001b[39m, \u001b[39m*\u001b[39margs, \u001b[39m*\u001b[39m\u001b[39m*\u001b[39mkwargs):\n\u001b[0;32m---> 68\u001b[0m     \u001b[39msuper\u001b[39;49m()\u001b[39m.\u001b[39;49m\u001b[39m__init__\u001b[39;49m(\u001b[39m*\u001b[39;49margs, \u001b[39m*\u001b[39;49m\u001b[39m*\u001b[39;49mkwargs)\n\u001b[1;32m     70\u001b[0m     reform \u001b[39m=\u001b[39m create_structural_reforms_from_parameters(\n\u001b[1;32m     71\u001b[0m         \u001b[39mself\u001b[39m\u001b[39m.\u001b[39mtax_benefit_system\u001b[39m.\u001b[39mparameters, \u001b[39m\"\u001b[39m\u001b[39m2023-01-01\u001b[39m\u001b[39m\"\u001b[39m\n\u001b[1;32m     72\u001b[0m     )\n\u001b[1;32m     73\u001b[0m     \u001b[39mif\u001b[39;00m reform \u001b[39mis\u001b[39;00m \u001b[39mnot\u001b[39;00m \u001b[39mNone\u001b[39;00m:\n",
      "File \u001b[0;32m/opt/conda/envs/policyengine/lib/python3.9/site-packages/policyengine_core/simulations/simulation.py:117\u001b[0m, in \u001b[0;36mSimulation.__init__\u001b[0;34m(self, tax_benefit_system, populations, situation, dataset, reform)\u001b[0m\n\u001b[1;32m    115\u001b[0m     builder \u001b[39m=\u001b[39m SimulationBuilder()\n\u001b[1;32m    116\u001b[0m     builder\u001b[39m.\u001b[39mdefault_period \u001b[39m=\u001b[39m \u001b[39mself\u001b[39m\u001b[39m.\u001b[39mdefault_input_period\n\u001b[0;32m--> 117\u001b[0m     builder\u001b[39m.\u001b[39;49mbuild_from_dict(\u001b[39mself\u001b[39;49m\u001b[39m.\u001b[39;49mtax_benefit_system, situation, \u001b[39mself\u001b[39;49m)\n\u001b[1;32m    118\u001b[0m     \u001b[39mself\u001b[39m\u001b[39m.\u001b[39mhas_axes \u001b[39m=\u001b[39m builder\u001b[39m.\u001b[39mhas_axes\n\u001b[1;32m    120\u001b[0m \u001b[39mif\u001b[39;00m populations \u001b[39mis\u001b[39;00m \u001b[39mnot\u001b[39;00m \u001b[39mNone\u001b[39;00m:\n",
      "File \u001b[0;32m/opt/conda/envs/policyengine/lib/python3.9/site-packages/policyengine_core/simulations/simulation_builder.py:82\u001b[0m, in \u001b[0;36mSimulationBuilder.build_from_dict\u001b[0;34m(self, tax_benefit_system, input_dict, simulation)\u001b[0m\n\u001b[1;32m     75\u001b[0m input_dict \u001b[39m=\u001b[39m \u001b[39mself\u001b[39m\u001b[39m.\u001b[39mexplicit_singular_entities(\n\u001b[1;32m     76\u001b[0m     tax_benefit_system, input_dict\n\u001b[1;32m     77\u001b[0m )\n\u001b[1;32m     78\u001b[0m \u001b[39mif\u001b[39;00m \u001b[39many\u001b[39m(\n\u001b[1;32m     79\u001b[0m     key \u001b[39min\u001b[39;00m tax_benefit_system\u001b[39m.\u001b[39mentities_plural()\n\u001b[1;32m     80\u001b[0m     \u001b[39mfor\u001b[39;00m key \u001b[39min\u001b[39;00m input_dict\u001b[39m.\u001b[39mkeys()\n\u001b[1;32m     81\u001b[0m ):\n\u001b[0;32m---> 82\u001b[0m     \u001b[39mreturn\u001b[39;00m \u001b[39mself\u001b[39;49m\u001b[39m.\u001b[39;49mbuild_from_entities(\n\u001b[1;32m     83\u001b[0m         tax_benefit_system, input_dict, simulation\n\u001b[1;32m     84\u001b[0m     )\n\u001b[1;32m     85\u001b[0m \u001b[39melse\u001b[39;00m:\n\u001b[1;32m     86\u001b[0m     \u001b[39mreturn\u001b[39;00m \u001b[39mself\u001b[39m\u001b[39m.\u001b[39mbuild_from_variables(\n\u001b[1;32m     87\u001b[0m         tax_benefit_system, input_dict, simulation\n\u001b[1;32m     88\u001b[0m     )\n",
      "File \u001b[0;32m/opt/conda/envs/policyengine/lib/python3.9/site-packages/policyengine_core/simulations/simulation_builder.py:156\u001b[0m, in \u001b[0;36mSimulationBuilder.build_from_entities\u001b[0;34m(self, tax_benefit_system, input_dict, simulation)\u001b[0m\n\u001b[1;32m    148\u001b[0m \u001b[39mif\u001b[39;00m \u001b[39mnot\u001b[39;00m persons_json:\n\u001b[1;32m    149\u001b[0m     \u001b[39mraise\u001b[39;00m SituationParsingError(\n\u001b[1;32m    150\u001b[0m         [tax_benefit_system\u001b[39m.\u001b[39mperson_entity\u001b[39m.\u001b[39mplural],\n\u001b[1;32m    151\u001b[0m         \u001b[39m\"\u001b[39m\u001b[39mNo \u001b[39m\u001b[39m{0}\u001b[39;00m\u001b[39m found. At least one \u001b[39m\u001b[39m{0}\u001b[39;00m\u001b[39m must be defined to run a simulation.\u001b[39m\u001b[39m\"\u001b[39m\u001b[39m.\u001b[39mformat(\n\u001b[1;32m    152\u001b[0m             tax_benefit_system\u001b[39m.\u001b[39mperson_entity\u001b[39m.\u001b[39mkey\n\u001b[1;32m    153\u001b[0m         ),\n\u001b[1;32m    154\u001b[0m     )\n\u001b[0;32m--> 156\u001b[0m persons_ids \u001b[39m=\u001b[39m \u001b[39mself\u001b[39;49m\u001b[39m.\u001b[39;49madd_person_entity(\n\u001b[1;32m    157\u001b[0m     simulation\u001b[39m.\u001b[39;49mpersons\u001b[39m.\u001b[39;49mentity, persons_json\n\u001b[1;32m    158\u001b[0m )\n\u001b[1;32m    160\u001b[0m \u001b[39mfor\u001b[39;00m entity_class \u001b[39min\u001b[39;00m tax_benefit_system\u001b[39m.\u001b[39mgroup_entities:\n\u001b[1;32m    161\u001b[0m     instances_json \u001b[39m=\u001b[39m input_dict\u001b[39m.\u001b[39mget(entity_class\u001b[39m.\u001b[39mplural)\n",
      "File \u001b[0;32m/opt/conda/envs/policyengine/lib/python3.9/site-packages/policyengine_core/simulations/simulation_builder.py:363\u001b[0m, in \u001b[0;36mSimulationBuilder.add_person_entity\u001b[0;34m(self, entity, instances_json)\u001b[0m\n\u001b[1;32m    361\u001b[0m \u001b[39mfor\u001b[39;00m instance_id, instance_object \u001b[39min\u001b[39;00m instances_json\u001b[39m.\u001b[39mitems():\n\u001b[1;32m    362\u001b[0m     check_type(instance_object, \u001b[39mdict\u001b[39m, [entity\u001b[39m.\u001b[39mplural, instance_id])\n\u001b[0;32m--> 363\u001b[0m     \u001b[39mself\u001b[39;49m\u001b[39m.\u001b[39;49minit_variable_values(\n\u001b[1;32m    364\u001b[0m         entity, instance_object, \u001b[39mstr\u001b[39;49m(instance_id)\n\u001b[1;32m    365\u001b[0m     )\n\u001b[1;32m    367\u001b[0m \u001b[39mreturn\u001b[39;00m \u001b[39mself\u001b[39m\u001b[39m.\u001b[39mget_ids(entity\u001b[39m.\u001b[39mplural)\n",
      "File \u001b[0;32m/opt/conda/envs/policyengine/lib/python3.9/site-packages/policyengine_core/simulations/simulation_builder.py:536\u001b[0m, in \u001b[0;36mSimulationBuilder.init_variable_values\u001b[0;34m(self, entity, instance_object, instance_id)\u001b[0m\n\u001b[1;32m    534\u001b[0m path_in_json \u001b[39m=\u001b[39m [entity\u001b[39m.\u001b[39mplural, instance_id, variable_name]\n\u001b[1;32m    535\u001b[0m \u001b[39mtry\u001b[39;00m:\n\u001b[0;32m--> 536\u001b[0m     entity\u001b[39m.\u001b[39;49mcheck_variable_defined_for_entity(variable_name)\n\u001b[1;32m    537\u001b[0m \u001b[39mexcept\u001b[39;00m (\n\u001b[1;32m    538\u001b[0m     \u001b[39mValueError\u001b[39;00m\n\u001b[1;32m    539\u001b[0m ) \u001b[39mas\u001b[39;00m e:  \u001b[39m# The variable is defined for another entity\u001b[39;00m\n\u001b[1;32m    540\u001b[0m     \u001b[39mraise\u001b[39;00m SituationParsingError(path_in_json, e\u001b[39m.\u001b[39margs[\u001b[39m0\u001b[39m])\n",
      "File \u001b[0;32m/opt/conda/envs/policyengine/lib/python3.9/site-packages/policyengine_core/entities/entity.py:34\u001b[0m, in \u001b[0;36mEntity.check_variable_defined_for_entity\u001b[0;34m(self, variable_name)\u001b[0m\n\u001b[1;32m     33\u001b[0m \u001b[39mdef\u001b[39;00m \u001b[39mcheck_variable_defined_for_entity\u001b[39m(\u001b[39mself\u001b[39m, variable_name: \u001b[39mstr\u001b[39m) \u001b[39m-\u001b[39m\u001b[39m>\u001b[39m \u001b[39mNone\u001b[39;00m:\n\u001b[0;32m---> 34\u001b[0m     variable_entity \u001b[39m=\u001b[39m \u001b[39mself\u001b[39;49m\u001b[39m.\u001b[39;49mget_variable(\n\u001b[1;32m     35\u001b[0m         variable_name, check_existence\u001b[39m=\u001b[39;49m\u001b[39mTrue\u001b[39;49;00m\n\u001b[1;32m     36\u001b[0m     )\u001b[39m.\u001b[39mentity\n\u001b[1;32m     37\u001b[0m     \u001b[39m# Should be this:\u001b[39;00m\n\u001b[1;32m     38\u001b[0m     \u001b[39m# if variable_entity is not self:\u001b[39;00m\n\u001b[1;32m     39\u001b[0m     \u001b[39mif\u001b[39;00m variable_entity\u001b[39m.\u001b[39mkey \u001b[39m!=\u001b[39m \u001b[39mself\u001b[39m\u001b[39m.\u001b[39mkey:\n",
      "File \u001b[0;32m/opt/conda/envs/policyengine/lib/python3.9/site-packages/policyengine_core/entities/entity.py:29\u001b[0m, in \u001b[0;36mEntity.get_variable\u001b[0;34m(self, variable_name, check_existence)\u001b[0m\n\u001b[1;32m     28\u001b[0m \u001b[39mdef\u001b[39;00m \u001b[39mget_variable\u001b[39m(\u001b[39mself\u001b[39m, variable_name: \u001b[39mstr\u001b[39m, check_existence: \u001b[39mbool\u001b[39m \u001b[39m=\u001b[39m \u001b[39mFalse\u001b[39;00m):\n\u001b[0;32m---> 29\u001b[0m     \u001b[39mreturn\u001b[39;00m \u001b[39mself\u001b[39;49m\u001b[39m.\u001b[39;49m_tax_benefit_system\u001b[39m.\u001b[39;49mget_variable(\n\u001b[1;32m     30\u001b[0m         variable_name, check_existence\n\u001b[1;32m     31\u001b[0m     )\n",
      "File \u001b[0;32m/opt/conda/envs/policyengine/lib/python3.9/site-packages/policyengine_core/taxbenefitsystems/tax_benefit_system.py:478\u001b[0m, in \u001b[0;36mTaxBenefitSystem.get_variable\u001b[0;34m(self, variable_name, check_existence)\u001b[0m\n\u001b[1;32m    476\u001b[0m found \u001b[39m=\u001b[39m variables\u001b[39m.\u001b[39mget(variable_name)\n\u001b[1;32m    477\u001b[0m \u001b[39mif\u001b[39;00m \u001b[39mnot\u001b[39;00m found \u001b[39mand\u001b[39;00m check_existence:\n\u001b[0;32m--> 478\u001b[0m     \u001b[39mraise\u001b[39;00m VariableNotFoundError(variable_name, \u001b[39mself\u001b[39;49m)\n\u001b[1;32m    479\u001b[0m \u001b[39mreturn\u001b[39;00m found\n",
      "File \u001b[0;32m/opt/conda/envs/policyengine/lib/python3.9/site-packages/policyengine_core/errors/variable_not_found_error.py:14\u001b[0m, in \u001b[0;36mVariableNotFoundError.__init__\u001b[0;34m(self, variable_name, tax_benefit_system)\u001b[0m\n\u001b[1;32m      9\u001b[0m \u001b[39mdef\u001b[39;00m \u001b[39m__init__\u001b[39m(\u001b[39mself\u001b[39m, variable_name, tax_benefit_system):\n\u001b[1;32m     10\u001b[0m \u001b[39m    \u001b[39m\u001b[39m\"\"\"\u001b[39;00m\n\u001b[1;32m     11\u001b[0m \u001b[39m    :param variable_name: Name of the variable that was queried.\u001b[39;00m\n\u001b[1;32m     12\u001b[0m \u001b[39m    :param tax_benefit_system: Tax benefits system that does not contain `variable_name`\u001b[39;00m\n\u001b[1;32m     13\u001b[0m \u001b[39m    \"\"\"\u001b[39;00m\n\u001b[0;32m---> 14\u001b[0m     country_package_metadata \u001b[39m=\u001b[39m tax_benefit_system\u001b[39m.\u001b[39;49mget_package_metadata()\n\u001b[1;32m     15\u001b[0m     country_package_name \u001b[39m=\u001b[39m country_package_metadata[\u001b[39m\"\u001b[39m\u001b[39mname\u001b[39m\u001b[39m\"\u001b[39m]\n\u001b[1;32m     16\u001b[0m     country_package_version \u001b[39m=\u001b[39m country_package_metadata[\u001b[39m\"\u001b[39m\u001b[39mversion\u001b[39m\u001b[39m\"\u001b[39m]\n",
      "File \u001b[0;32m/opt/conda/envs/policyengine/lib/python3.9/site-packages/policyengine_core/taxbenefitsystems/tax_benefit_system.py:595\u001b[0m, in \u001b[0;36mTaxBenefitSystem.get_package_metadata\u001b[0;34m(self)\u001b[0m\n\u001b[1;32m    593\u001b[0m \u001b[39mtry\u001b[39;00m:\n\u001b[1;32m    594\u001b[0m     distribution \u001b[39m=\u001b[39m importlib\u001b[39m.\u001b[39mmetadata\u001b[39m.\u001b[39mdistribution(package_name)\n\u001b[0;32m--> 595\u001b[0m \u001b[39mexcept\u001b[39;00m importlib\u001b[39m.\u001b[39;49mmetadata\u001b[39m.\u001b[39mPackageNotFoundError:\n\u001b[1;32m    596\u001b[0m     \u001b[39mreturn\u001b[39;00m fallback_metadata\n\u001b[1;32m    598\u001b[0m location \u001b[39m=\u001b[39m (\n\u001b[1;32m    599\u001b[0m     inspect\u001b[39m.\u001b[39mgetsourcefile(module)\u001b[39m.\u001b[39msplit(package_name)[\u001b[39m0\u001b[39m]\u001b[39m.\u001b[39mrstrip(\u001b[39m\"\u001b[39m\u001b[39m/\u001b[39m\u001b[39m\"\u001b[39m)\n\u001b[1;32m    600\u001b[0m )\n",
      "\u001b[0;31mAttributeError\u001b[0m: module 'importlib' has no attribute 'metadata'"
     ]
    }
   ],
   "source": [
    "single = create_simulation(create_situation(False, False, False, False, False, False, False))\n",
    "# taxable_income = single.calculate(\"nh_taxable_income\")"
   ]
  }
 ],
 "metadata": {
  "kernelspec": {
   "display_name": "policyengine",
   "language": "python",
   "name": "python3"
  },
  "language_info": {
   "codemirror_mode": {
    "name": "ipython",
    "version": 3
   },
   "file_extension": ".py",
   "mimetype": "text/x-python",
   "name": "python",
   "nbconvert_exporter": "python",
   "pygments_lexer": "ipython3",
   "version": "3.9.16"
  },
  "orig_nbformat": 4
 },
 "nbformat": 4,
 "nbformat_minor": 2
}
