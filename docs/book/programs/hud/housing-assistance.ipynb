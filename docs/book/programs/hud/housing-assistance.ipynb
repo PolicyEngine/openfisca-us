{
 "cells": [
  {
   "cell_type": "markdown",
   "metadata": {},
   "source": [
    "# HAP\n",
    "\n",
    "The Housing Assistance Payment (HAP) is  assistance to low-income families.\n",
    "Eligibility depends on household size, state, and income, before and after a series of deductions involving earnings and various costs such as shelter and childcare.\n",
    "\n",
    "### How earnings affect a one-person household's housing assistance allotments\n",
    "\n",
    "Consider a single person household in San Francisco, California (using 2022 AMI level) with \\$1,000 monthly earned income and \\$600 monthly rent. They would be eligible for \\$204 per month in HAP allotments. "
   ]
  },
  {
   "cell_type": "code",
   "execution_count": 1,
   "metadata": {},
   "outputs": [
    {
     "name": "stdout",
     "output_type": "stream",
     "text": [
      "HAP:  204\n"
     ]
    }
   ],
   "source": [
    "from openfisca_us import IndividualSim\n",
    "import pandas as pd\n",
    "import plotly.express as px\n",
    "\n",
    "sim_emp = IndividualSim(year=2022)\n",
    "sim_emp.add_person(name=\"person\", employment_income=1000 * 12)\n",
    "sim_emp.add_spm_unit(\n",
    "    name=\"spm_unit\", members=[\"person\"], hud_gross_rent=600 * 12, ami = 138550, pha_payment_standard = 2748\n",
    ")\n",
    "\n",
    "#PHA payment is for 1-bedroom in 2019, see: https://sfmohcd.org/sites/default/files/Documents/MOH/Asset%20Management/2019%20AMI_RentLimits-HMFA.pdf\n",
    "\n",
    "print(\n",
    "    \"HAP: \",\n",
    "    round(sim_emp.calc(\"housing_assistance\")[0] / 12),\n",
    ")"
   ]
  },
  {
   "cell_type": "markdown",
   "metadata": {},
   "source": [
    "### How earnings affect a one-person household's housing assistance allotments\n",
    "\n",
    "Now, consider a single person household in San Francisco, California (using 2022 AMI level) with \\$3,000 monthly earned income but still \\$600 monthly rent. They would be eligible for \\$515 per month in HAP allotments. "
   ]
  },
  {
   "cell_type": "code",
   "execution_count": 2,
   "metadata": {},
   "outputs": [
    {
     "name": "stdout",
     "output_type": "stream",
     "text": [
      "HAP:  154\n"
     ]
    }
   ],
   "source": [
    "from openfisca_us import IndividualSim\n",
    "import pandas as pd\n",
    "import plotly.express as px\n",
    "\n",
    "sim_emp = IndividualSim(year=2022)\n",
    "sim_emp.add_person(name=\"person\", employment_income=3000 * 12)\n",
    "sim_emp.add_spm_unit(\n",
    "    name=\"spm_unit\", members=[\"person\"], hud_gross_rent=600 * 12, ami = 138550, pha_payment_standard = 2748\n",
    ")\n",
    "\n",
    "#PHA payment is for 1-bedroom in 2019, see: https://sfmohcd.org/sites/default/files/Documents/MOH/Asset%20Management/2019%20AMI_RentLimits-HMFA.pdf\n",
    "\n",
    "print(\n",
    "    \"HAP: \",\n",
    "    round(sim_emp.calc(\"housing_assistance\")[0] / 12),)"
   ]
  },
  {
   "cell_type": "markdown",
   "metadata": {},
   "source": [
    "### How disability status affect a person's housing assistance allotments\n",
    "\n",
    "Now, consider a 1-person household in San Francisco, California (using 2022 AMI level) with that same \\$3,000 monthly earned income and \\$600 monthly rent. If this tenant is disabled, they deduct $400 from their adjusted income calculation. "
   ]
  },
  {
   "cell_type": "code",
   "execution_count": 3,
   "metadata": {},
   "outputs": [
    {
     "name": "stdout",
     "output_type": "stream",
     "text": [
      "HAP:  164\n"
     ]
    }
   ],
   "source": [
    "from openfisca_us import IndividualSim\n",
    "import pandas as pd\n",
    "import plotly.express as px\n",
    "\n",
    "sim_emp = IndividualSim(year=2022)\n",
    "sim_emp.add_person(name=\"person\", employment_income=2600 * 12)\n",
    "sim_emp.add_spm_unit(\n",
    "    name=\"spm_unit\", members=[\"person\"], hud_gross_rent=600 * 12, ami = 138550, pha_payment_standard = 2748\n",
    ")\n",
    "\n",
    "print(\n",
    "    \"HAP: \",\n",
    "    round(sim_emp.calc(\"housing_assistance\")[0] / 12),)"
   ]
  },
  {
   "cell_type": "markdown",
   "metadata": {},
   "source": [
    "### How dependents affect a person's housing assistance allotments\n",
    "\n",
    "Now, consider a 2-person household, one head of household and one dependent, in San Francisco, California (using 2022 AMI level) with that same \\$3,000 monthly earned income and same \\$600 monthly rent. With one dependent, this household deducts $480 from their adjusted income, making their HAP "
   ]
  },
  {
   "cell_type": "code",
   "execution_count": 4,
   "metadata": {},
   "outputs": [
    {
     "name": "stdout",
     "output_type": "stream",
     "text": [
      "HAP:  166\n"
     ]
    }
   ],
   "source": [
    "from openfisca_us import IndividualSim\n",
    "import pandas as pd\n",
    "import plotly.express as px\n",
    "\n",
    "sim_emp = IndividualSim(year=2022)\n",
    "sim_emp.add_person(name=\"person\", employment_income=2520 * 12)\n",
    "sim_emp.add_spm_unit(\n",
    "    name=\"spm_unit\", members=[\"person\"], hud_gross_rent=600 * 12, ami = 138550, pha_payment_standard = 2748\n",
    ")\n",
    "\n",
    "print(\n",
    "    \"HAP: \",\n",
    "    round(sim_emp.calc(\"housing_assistance\")[0] / 12),)"
   ]
  },
  {
   "cell_type": "markdown",
   "metadata": {},
   "source": [
    "### What if we're elsewhere in the U.S.? Let's say... Durango, CO\n",
    "\n",
    "Consider a 1-person household in Durango, Colorado (using 2022 AMI level) with that same \\$3,000 monthly earned income and same \\$600 monthly rent as our test case in San Francisco. "
   ]
  },
  {
   "cell_type": "code",
   "execution_count": 5,
   "metadata": {},
   "outputs": [
    {
     "name": "stdout",
     "output_type": "stream",
     "text": [
      "HAP:  154\n"
     ]
    }
   ],
   "source": [
    "from openfisca_us import IndividualSim\n",
    "import pandas as pd\n",
    "import plotly.express as px\n",
    "\n",
    "sim_emp = IndividualSim(year=2022)\n",
    "sim_emp.add_person(name=\"person\", employment_income=3000 * 12)\n",
    "sim_emp.add_spm_unit(\n",
    "    name=\"spm_unit\", members=[\"person\"], hud_gross_rent=600 * 12, ami = 89300, pha_payment_standard = 2748\n",
    ")\n",
    "\n",
    "print(\n",
    "    \"HAP: \",\n",
    "    round(sim_emp.calc(\"housing_assistance\")[0] / 12),)"
   ]
  },
  {
   "cell_type": "code",
   "execution_count": 6,
   "metadata": {},
   "outputs": [
    {
     "data": {
      "application/vnd.plotly.v1+json": {
       "config": {
        "plotlyServerURL": "https://plot.ly"
       },
       "data": [
        {
         "hovertemplate": "Monthly employment income=%{x}<br>housing_assistance=%{y}<extra></extra>",
         "legendgroup": "",
         "line": {
          "color": "#636efa",
          "dash": "solid"
         },
         "marker": {
          "symbol": "circle"
         },
         "mode": "lines",
         "name": "",
         "orientation": "v",
         "showlegend": false,
         "type": "scatter",
         "x": [
          0,
          120,
          240,
          360,
          480,
          600,
          720,
          840,
          960,
          1080,
          1200,
          1320,
          1440,
          1560,
          1680,
          1800,
          1920,
          2040,
          2160,
          2280,
          2400,
          2520,
          2640,
          2760,
          2880,
          3000,
          3120,
          3240,
          3360,
          3480,
          3600,
          3720,
          3840,
          3960,
          4080,
          4200,
          4320,
          4440,
          4560,
          4680,
          4800,
          4920,
          5040,
          5160,
          5280,
          5400,
          5520,
          5640,
          5760,
          5880,
          6000,
          6120,
          6240,
          6360,
          6480,
          6600,
          6720,
          6840,
          6960,
          7080,
          7200,
          7320,
          7440,
          7560,
          7680,
          7800,
          7920,
          8040,
          8160,
          8280,
          8400,
          8520,
          8640,
          8760,
          8880,
          9000,
          9120,
          9240,
          9360,
          9480,
          9600,
          9720,
          9840,
          9960,
          10080,
          10200,
          10320,
          10440,
          10560,
          10680,
          10800,
          10920,
          11040,
          11160,
          11280,
          11400,
          11520,
          11640,
          11760,
          11880,
          12000,
          12120,
          12240,
          12360,
          12480,
          12600,
          12720,
          12840,
          12960,
          13080,
          13200,
          13320,
          13440,
          13560,
          13680,
          13800,
          13920,
          14040,
          14160,
          14280,
          14400,
          14520,
          14640,
          14760,
          14880,
          15000,
          15120,
          15240,
          15360,
          15480,
          15600,
          15720,
          15840,
          15960,
          16080,
          16200,
          16320,
          16440,
          16560,
          16680,
          16800,
          16920,
          17040,
          17160,
          17280,
          17400,
          17520,
          17640,
          17760,
          17880,
          18000,
          18120,
          18240,
          18360,
          18480,
          18600,
          18720,
          18840,
          18960,
          19080,
          19200,
          19320,
          19440,
          19560,
          19680,
          19800,
          19920,
          20040,
          20160,
          20280,
          20400,
          20520,
          20640,
          20760,
          20880,
          21000,
          21120,
          21240,
          21360,
          21480,
          21600,
          21720,
          21840,
          21960,
          22080,
          22200,
          22320,
          22440,
          22560,
          22680,
          22800,
          22920,
          23040,
          23160,
          23280,
          23400,
          23520,
          23640,
          23760,
          23880,
          24000,
          24120,
          24240,
          24360,
          24480,
          24600,
          24720,
          24840,
          24960,
          25080,
          25200,
          25320,
          25440,
          25560,
          25680,
          25800,
          25920,
          26040,
          26160,
          26280,
          26400,
          26520,
          26640,
          26760,
          26880,
          27000,
          27120,
          27240,
          27360,
          27480,
          27600,
          27720,
          27840,
          27960,
          28080,
          28200,
          28320,
          28440,
          28560,
          28680,
          28800,
          28920,
          29040,
          29160,
          29280,
          29400,
          29520,
          29640,
          29760,
          29880,
          30000
         ],
         "xaxis": "x",
         "y": [
          2748,
          2745,
          2742,
          2739,
          2736,
          2733,
          2730,
          2727,
          2724,
          2721,
          2718,
          2715,
          2712,
          2709,
          2706,
          2703,
          2700,
          2697,
          2694,
          2691,
          2688,
          2685,
          2682,
          2679,
          2676,
          2673,
          2670,
          2667,
          2664,
          2661,
          2658,
          2655,
          2652,
          2649,
          2646,
          2643,
          2640,
          2637,
          2634,
          2631,
          2628,
          2625,
          2622,
          2619,
          2616,
          2613,
          2610,
          2607,
          2604,
          2601,
          2598,
          2595,
          2592,
          2589,
          2586,
          2583,
          2580,
          2577,
          2574,
          2571,
          2568,
          2565,
          2562,
          2559,
          2556,
          2553,
          2550,
          2547,
          2544,
          2541,
          2538,
          2535,
          2532,
          2529,
          2526,
          2523,
          2520,
          2517,
          2514,
          2511,
          2508,
          2505,
          2502,
          2499,
          2496,
          2493,
          2490,
          2487,
          2484,
          2481,
          2478,
          2475,
          2472,
          2469,
          2466,
          2463,
          2460,
          2457,
          2454,
          2451,
          2448,
          2445,
          2442,
          2439,
          2436,
          2433,
          2430,
          2427,
          2424,
          2421,
          2418,
          2415,
          2412,
          2409,
          2406,
          2403,
          2400,
          2397,
          2394,
          2391,
          2388,
          2385,
          2382,
          2379,
          2376,
          2373,
          2370,
          2367,
          2364,
          2361,
          2358,
          2355,
          2352,
          2349,
          2346,
          2343,
          2340,
          2337,
          2334,
          2331,
          2328,
          2325,
          2322,
          2319,
          2316,
          2313,
          2310,
          2307,
          2304,
          2301,
          2298,
          2295,
          2292,
          2289,
          2286,
          2283,
          2280,
          2277,
          2274,
          2271,
          2268,
          2265,
          2262,
          2259,
          2256,
          2253,
          2250,
          2247,
          2244,
          2241,
          2238,
          2235,
          2232,
          2229,
          2226,
          2223,
          2220,
          2217,
          2214,
          2211,
          2208,
          2205,
          2202,
          2199,
          2196,
          2193,
          2190,
          2187,
          2184,
          2181,
          2178,
          2175,
          2172,
          2169,
          2166,
          2163,
          2160,
          2157,
          2154,
          2151,
          2148,
          2145,
          2142,
          2139,
          2136,
          2133,
          2130,
          2127,
          2124,
          2121,
          2118,
          2115,
          2112,
          2109,
          2106,
          2103,
          2100,
          2097,
          2094,
          2091,
          2088,
          2085,
          2082,
          2079,
          2076,
          2073,
          2070,
          2067,
          2064,
          2061,
          2058,
          2055,
          2052,
          2049,
          2046,
          2043,
          2040,
          2037,
          2034,
          2031,
          2028,
          2025,
          2022,
          2019,
          2016,
          2013,
          2010,
          2007,
          2004,
          2001,
          1998
         ],
         "yaxis": "y"
        }
       ],
       "layout": {
        "legend": {
         "tracegroupgap": 0
        },
        "template": {
         "data": {
          "bar": [
           {
            "error_x": {
             "color": "#2a3f5f"
            },
            "error_y": {
             "color": "#2a3f5f"
            },
            "marker": {
             "line": {
              "color": "#E5ECF6",
              "width": 0.5
             },
             "pattern": {
              "fillmode": "overlay",
              "size": 10,
              "solidity": 0.2
             }
            },
            "type": "bar"
           }
          ],
          "barpolar": [
           {
            "marker": {
             "line": {
              "color": "#E5ECF6",
              "width": 0.5
             },
             "pattern": {
              "fillmode": "overlay",
              "size": 10,
              "solidity": 0.2
             }
            },
            "type": "barpolar"
           }
          ],
          "carpet": [
           {
            "aaxis": {
             "endlinecolor": "#2a3f5f",
             "gridcolor": "white",
             "linecolor": "white",
             "minorgridcolor": "white",
             "startlinecolor": "#2a3f5f"
            },
            "baxis": {
             "endlinecolor": "#2a3f5f",
             "gridcolor": "white",
             "linecolor": "white",
             "minorgridcolor": "white",
             "startlinecolor": "#2a3f5f"
            },
            "type": "carpet"
           }
          ],
          "choropleth": [
           {
            "colorbar": {
             "outlinewidth": 0,
             "ticks": ""
            },
            "type": "choropleth"
           }
          ],
          "contour": [
           {
            "colorbar": {
             "outlinewidth": 0,
             "ticks": ""
            },
            "colorscale": [
             [
              0,
              "#0d0887"
             ],
             [
              0.1111111111111111,
              "#46039f"
             ],
             [
              0.2222222222222222,
              "#7201a8"
             ],
             [
              0.3333333333333333,
              "#9c179e"
             ],
             [
              0.4444444444444444,
              "#bd3786"
             ],
             [
              0.5555555555555556,
              "#d8576b"
             ],
             [
              0.6666666666666666,
              "#ed7953"
             ],
             [
              0.7777777777777778,
              "#fb9f3a"
             ],
             [
              0.8888888888888888,
              "#fdca26"
             ],
             [
              1,
              "#f0f921"
             ]
            ],
            "type": "contour"
           }
          ],
          "contourcarpet": [
           {
            "colorbar": {
             "outlinewidth": 0,
             "ticks": ""
            },
            "type": "contourcarpet"
           }
          ],
          "heatmap": [
           {
            "colorbar": {
             "outlinewidth": 0,
             "ticks": ""
            },
            "colorscale": [
             [
              0,
              "#0d0887"
             ],
             [
              0.1111111111111111,
              "#46039f"
             ],
             [
              0.2222222222222222,
              "#7201a8"
             ],
             [
              0.3333333333333333,
              "#9c179e"
             ],
             [
              0.4444444444444444,
              "#bd3786"
             ],
             [
              0.5555555555555556,
              "#d8576b"
             ],
             [
              0.6666666666666666,
              "#ed7953"
             ],
             [
              0.7777777777777778,
              "#fb9f3a"
             ],
             [
              0.8888888888888888,
              "#fdca26"
             ],
             [
              1,
              "#f0f921"
             ]
            ],
            "type": "heatmap"
           }
          ],
          "heatmapgl": [
           {
            "colorbar": {
             "outlinewidth": 0,
             "ticks": ""
            },
            "colorscale": [
             [
              0,
              "#0d0887"
             ],
             [
              0.1111111111111111,
              "#46039f"
             ],
             [
              0.2222222222222222,
              "#7201a8"
             ],
             [
              0.3333333333333333,
              "#9c179e"
             ],
             [
              0.4444444444444444,
              "#bd3786"
             ],
             [
              0.5555555555555556,
              "#d8576b"
             ],
             [
              0.6666666666666666,
              "#ed7953"
             ],
             [
              0.7777777777777778,
              "#fb9f3a"
             ],
             [
              0.8888888888888888,
              "#fdca26"
             ],
             [
              1,
              "#f0f921"
             ]
            ],
            "type": "heatmapgl"
           }
          ],
          "histogram": [
           {
            "marker": {
             "pattern": {
              "fillmode": "overlay",
              "size": 10,
              "solidity": 0.2
             }
            },
            "type": "histogram"
           }
          ],
          "histogram2d": [
           {
            "colorbar": {
             "outlinewidth": 0,
             "ticks": ""
            },
            "colorscale": [
             [
              0,
              "#0d0887"
             ],
             [
              0.1111111111111111,
              "#46039f"
             ],
             [
              0.2222222222222222,
              "#7201a8"
             ],
             [
              0.3333333333333333,
              "#9c179e"
             ],
             [
              0.4444444444444444,
              "#bd3786"
             ],
             [
              0.5555555555555556,
              "#d8576b"
             ],
             [
              0.6666666666666666,
              "#ed7953"
             ],
             [
              0.7777777777777778,
              "#fb9f3a"
             ],
             [
              0.8888888888888888,
              "#fdca26"
             ],
             [
              1,
              "#f0f921"
             ]
            ],
            "type": "histogram2d"
           }
          ],
          "histogram2dcontour": [
           {
            "colorbar": {
             "outlinewidth": 0,
             "ticks": ""
            },
            "colorscale": [
             [
              0,
              "#0d0887"
             ],
             [
              0.1111111111111111,
              "#46039f"
             ],
             [
              0.2222222222222222,
              "#7201a8"
             ],
             [
              0.3333333333333333,
              "#9c179e"
             ],
             [
              0.4444444444444444,
              "#bd3786"
             ],
             [
              0.5555555555555556,
              "#d8576b"
             ],
             [
              0.6666666666666666,
              "#ed7953"
             ],
             [
              0.7777777777777778,
              "#fb9f3a"
             ],
             [
              0.8888888888888888,
              "#fdca26"
             ],
             [
              1,
              "#f0f921"
             ]
            ],
            "type": "histogram2dcontour"
           }
          ],
          "mesh3d": [
           {
            "colorbar": {
             "outlinewidth": 0,
             "ticks": ""
            },
            "type": "mesh3d"
           }
          ],
          "parcoords": [
           {
            "line": {
             "colorbar": {
              "outlinewidth": 0,
              "ticks": ""
             }
            },
            "type": "parcoords"
           }
          ],
          "pie": [
           {
            "automargin": true,
            "type": "pie"
           }
          ],
          "scatter": [
           {
            "fillpattern": {
             "fillmode": "overlay",
             "size": 10,
             "solidity": 0.2
            },
            "type": "scatter"
           }
          ],
          "scatter3d": [
           {
            "line": {
             "colorbar": {
              "outlinewidth": 0,
              "ticks": ""
             }
            },
            "marker": {
             "colorbar": {
              "outlinewidth": 0,
              "ticks": ""
             }
            },
            "type": "scatter3d"
           }
          ],
          "scattercarpet": [
           {
            "marker": {
             "colorbar": {
              "outlinewidth": 0,
              "ticks": ""
             }
            },
            "type": "scattercarpet"
           }
          ],
          "scattergeo": [
           {
            "marker": {
             "colorbar": {
              "outlinewidth": 0,
              "ticks": ""
             }
            },
            "type": "scattergeo"
           }
          ],
          "scattergl": [
           {
            "marker": {
             "colorbar": {
              "outlinewidth": 0,
              "ticks": ""
             }
            },
            "type": "scattergl"
           }
          ],
          "scattermapbox": [
           {
            "marker": {
             "colorbar": {
              "outlinewidth": 0,
              "ticks": ""
             }
            },
            "type": "scattermapbox"
           }
          ],
          "scatterpolar": [
           {
            "marker": {
             "colorbar": {
              "outlinewidth": 0,
              "ticks": ""
             }
            },
            "type": "scatterpolar"
           }
          ],
          "scatterpolargl": [
           {
            "marker": {
             "colorbar": {
              "outlinewidth": 0,
              "ticks": ""
             }
            },
            "type": "scatterpolargl"
           }
          ],
          "scatterternary": [
           {
            "marker": {
             "colorbar": {
              "outlinewidth": 0,
              "ticks": ""
             }
            },
            "type": "scatterternary"
           }
          ],
          "surface": [
           {
            "colorbar": {
             "outlinewidth": 0,
             "ticks": ""
            },
            "colorscale": [
             [
              0,
              "#0d0887"
             ],
             [
              0.1111111111111111,
              "#46039f"
             ],
             [
              0.2222222222222222,
              "#7201a8"
             ],
             [
              0.3333333333333333,
              "#9c179e"
             ],
             [
              0.4444444444444444,
              "#bd3786"
             ],
             [
              0.5555555555555556,
              "#d8576b"
             ],
             [
              0.6666666666666666,
              "#ed7953"
             ],
             [
              0.7777777777777778,
              "#fb9f3a"
             ],
             [
              0.8888888888888888,
              "#fdca26"
             ],
             [
              1,
              "#f0f921"
             ]
            ],
            "type": "surface"
           }
          ],
          "table": [
           {
            "cells": {
             "fill": {
              "color": "#EBF0F8"
             },
             "line": {
              "color": "white"
             }
            },
            "header": {
             "fill": {
              "color": "#C8D4E3"
             },
             "line": {
              "color": "white"
             }
            },
            "type": "table"
           }
          ]
         },
         "layout": {
          "annotationdefaults": {
           "arrowcolor": "#2a3f5f",
           "arrowhead": 0,
           "arrowwidth": 1
          },
          "autotypenumbers": "strict",
          "coloraxis": {
           "colorbar": {
            "outlinewidth": 0,
            "ticks": ""
           }
          },
          "colorscale": {
           "diverging": [
            [
             0,
             "#8e0152"
            ],
            [
             0.1,
             "#c51b7d"
            ],
            [
             0.2,
             "#de77ae"
            ],
            [
             0.3,
             "#f1b6da"
            ],
            [
             0.4,
             "#fde0ef"
            ],
            [
             0.5,
             "#f7f7f7"
            ],
            [
             0.6,
             "#e6f5d0"
            ],
            [
             0.7,
             "#b8e186"
            ],
            [
             0.8,
             "#7fbc41"
            ],
            [
             0.9,
             "#4d9221"
            ],
            [
             1,
             "#276419"
            ]
           ],
           "sequential": [
            [
             0,
             "#0d0887"
            ],
            [
             0.1111111111111111,
             "#46039f"
            ],
            [
             0.2222222222222222,
             "#7201a8"
            ],
            [
             0.3333333333333333,
             "#9c179e"
            ],
            [
             0.4444444444444444,
             "#bd3786"
            ],
            [
             0.5555555555555556,
             "#d8576b"
            ],
            [
             0.6666666666666666,
             "#ed7953"
            ],
            [
             0.7777777777777778,
             "#fb9f3a"
            ],
            [
             0.8888888888888888,
             "#fdca26"
            ],
            [
             1,
             "#f0f921"
            ]
           ],
           "sequentialminus": [
            [
             0,
             "#0d0887"
            ],
            [
             0.1111111111111111,
             "#46039f"
            ],
            [
             0.2222222222222222,
             "#7201a8"
            ],
            [
             0.3333333333333333,
             "#9c179e"
            ],
            [
             0.4444444444444444,
             "#bd3786"
            ],
            [
             0.5555555555555556,
             "#d8576b"
            ],
            [
             0.6666666666666666,
             "#ed7953"
            ],
            [
             0.7777777777777778,
             "#fb9f3a"
            ],
            [
             0.8888888888888888,
             "#fdca26"
            ],
            [
             1,
             "#f0f921"
            ]
           ]
          },
          "colorway": [
           "#636efa",
           "#EF553B",
           "#00cc96",
           "#ab63fa",
           "#FFA15A",
           "#19d3f3",
           "#FF6692",
           "#B6E880",
           "#FF97FF",
           "#FECB52"
          ],
          "font": {
           "color": "#2a3f5f"
          },
          "geo": {
           "bgcolor": "white",
           "lakecolor": "white",
           "landcolor": "#E5ECF6",
           "showlakes": true,
           "showland": true,
           "subunitcolor": "white"
          },
          "hoverlabel": {
           "align": "left"
          },
          "hovermode": "closest",
          "mapbox": {
           "style": "light"
          },
          "paper_bgcolor": "white",
          "plot_bgcolor": "#E5ECF6",
          "polar": {
           "angularaxis": {
            "gridcolor": "white",
            "linecolor": "white",
            "ticks": ""
           },
           "bgcolor": "#E5ECF6",
           "radialaxis": {
            "gridcolor": "white",
            "linecolor": "white",
            "ticks": ""
           }
          },
          "scene": {
           "xaxis": {
            "backgroundcolor": "#E5ECF6",
            "gridcolor": "white",
            "gridwidth": 2,
            "linecolor": "white",
            "showbackground": true,
            "ticks": "",
            "zerolinecolor": "white"
           },
           "yaxis": {
            "backgroundcolor": "#E5ECF6",
            "gridcolor": "white",
            "gridwidth": 2,
            "linecolor": "white",
            "showbackground": true,
            "ticks": "",
            "zerolinecolor": "white"
           },
           "zaxis": {
            "backgroundcolor": "#E5ECF6",
            "gridcolor": "white",
            "gridwidth": 2,
            "linecolor": "white",
            "showbackground": true,
            "ticks": "",
            "zerolinecolor": "white"
           }
          },
          "shapedefaults": {
           "line": {
            "color": "#2a3f5f"
           }
          },
          "ternary": {
           "aaxis": {
            "gridcolor": "white",
            "linecolor": "white",
            "ticks": ""
           },
           "baxis": {
            "gridcolor": "white",
            "linecolor": "white",
            "ticks": ""
           },
           "bgcolor": "#E5ECF6",
           "caxis": {
            "gridcolor": "white",
            "linecolor": "white",
            "ticks": ""
           }
          },
          "title": {
           "x": 0.05
          },
          "xaxis": {
           "automargin": true,
           "gridcolor": "white",
           "linecolor": "white",
           "ticks": "",
           "title": {
            "standoff": 15
           },
           "zerolinecolor": "white",
           "zerolinewidth": 2
          },
          "yaxis": {
           "automargin": true,
           "gridcolor": "white",
           "linecolor": "white",
           "ticks": "",
           "title": {
            "standoff": 15
           },
           "zerolinecolor": "white",
           "zerolinewidth": 2
          }
         }
        },
        "title": {
         "text": "HAP allotment for a one-person household in California with $600 monthly housing costs"
        },
        "xaxis": {
         "anchor": "y",
         "domain": [
          0,
          1
         ],
         "tickformat": "$,",
         "title": {
          "text": "Monthly employment income"
         }
        },
        "yaxis": {
         "anchor": "x",
         "domain": [
          0,
          1
         ],
         "tickformat": "$,",
         "title": {
          "text": "housing_assistance"
         }
        }
       }
      }
     },
     "metadata": {},
     "output_type": "display_data"
    }
   ],
   "source": [
    "sim_emp.vary(\"employment_income\", max=2500 * 12, step=120)\n",
    "\n",
    "import plotly.express as px\n",
    "\n",
    "LABELS = dict(\n",
    "    employment_income=\"Monthly employment income\",\n",
    "    dividend_income=\"Monthly dividend income\",\n",
    "    income=\"Monthly income\",\n",
    "    income_source=\"Income source\",\n",
    "    housing_cost=\"Monthly housing cost\",\n",
    "    hap=\"Monthly hap allotment\",\n",
    "    allotment=\"HAP allotment\",\n",
    ")\n",
    "\n",
    "emp_df_full = pd.DataFrame(\n",
    "    dict(\n",
    "        employment_income=sim_emp.calc(\"employment_income\")[0],\n",
    "        hud_hap=sim_emp.calc(\"hud_hap\")[0],\n",
    "        mtr=-sim_emp.deriv(\"hud_hap\", \"employment_income\"),\n",
    "        housing_assistance=sim_emp.calc(\"housing_assistance\")[0]\n",
    "    ))\n",
    "\n",
    "fig = px.line(\n",
    "    emp_df_full,\n",
    "    \"employment_income\",\n",
    "    \"housing_assistance\",\n",
    "    labels=LABELS,\n",
    "    title=\"HAP allotment for a one-person household in California with $600 monthly housing costs\",\n",
    ")\n",
    "fig.update_layout(xaxis_tickformat=\"$,\", yaxis_tickformat=\"$,\")\n",
    "fig.show()"
   ]
  },
  {
   "cell_type": "code",
   "execution_count": 36,
   "metadata": {},
   "outputs": [],
   "source": [
    "def make_graph(x, title, vary_max): \n",
    "    sim_emp = IndividualSim(year=2022)\n",
    "    sim_emp.add_person(name=\"person\", employment_income=2520 * 12)\n",
    "    sim_emp.add_spm_unit(\n",
    "        name=\"spm_unit\", members=[\"person\"], hud_gross_rent=600*12, ami = 138550, pha_payment_standard = 2748, receives_housing_assistance = True \n",
    "    )\n",
    "    sim_emp.vary(x, max=vary_max)\n",
    "    emp_df_full = pd.DataFrame(\n",
    "        dict(\n",
    "            x=sim_emp.calc(x)[0],\n",
    "            hud_hap=sim_emp.calc(\"hud_hap\")[0],\n",
    "            mtr=-sim_emp.deriv(\"hud_hap\", x),\n",
    "            housing_assistance=sim_emp.calc(\"housing_assistance\")[0]\n",
    "    )).rename(columns={\"x\":x})\n",
    "    fig = px.line(\n",
    "        emp_df_full,\n",
    "        x,\n",
    "        \"housing_assistance\",\n",
    "        labels=LABELS,\n",
    "        title=title,\n",
    "    )\n",
    "    fig.update_layout(xaxis_tickformat=\"$,\", yaxis_tickformat=\"$,\")\n",
    "    fig.show()"
   ]
  },
  {
   "cell_type": "code",
   "execution_count": 37,
   "metadata": {},
   "outputs": [
    {
     "data": {
      "application/vnd.plotly.v1+json": {
       "config": {
        "plotlyServerURL": "https://plot.ly"
       },
       "data": [
        {
         "hovertemplate": "Monthly employment income=%{x}<br>housing_assistance=%{y}<extra></extra>",
         "legendgroup": "",
         "line": {
          "color": "#636efa",
          "dash": "solid"
         },
         "marker": {
          "symbol": "circle"
         },
         "mode": "lines",
         "name": "",
         "showlegend": false,
         "type": "scattergl",
         "x": [
          0,
          100,
          200,
          300,
          400,
          500,
          600,
          700,
          800,
          900,
          1000,
          1100,
          1200,
          1300,
          1400,
          1500,
          1600,
          1700,
          1800,
          1900,
          2000,
          2100,
          2200,
          2300,
          2400,
          2500,
          2600,
          2700,
          2800,
          2900,
          3000,
          3100,
          3200,
          3300,
          3400,
          3500,
          3600,
          3700,
          3800,
          3900,
          4000,
          4100,
          4200,
          4300,
          4400,
          4500,
          4600,
          4700,
          4800,
          4900,
          5000,
          5100,
          5200,
          5300,
          5400,
          5500,
          5600,
          5700,
          5800,
          5900,
          6000,
          6100,
          6200,
          6300,
          6400,
          6500,
          6600,
          6700,
          6800,
          6900,
          7000,
          7100,
          7200,
          7300,
          7400,
          7500,
          7600,
          7700,
          7800,
          7900,
          8000,
          8100,
          8200,
          8300,
          8400,
          8500,
          8600,
          8700,
          8800,
          8900,
          9000,
          9100,
          9200,
          9300,
          9400,
          9500,
          9600,
          9700,
          9800,
          9900,
          10000,
          10100,
          10200,
          10300,
          10400,
          10500,
          10600,
          10700,
          10800,
          10900,
          11000,
          11100,
          11200,
          11300,
          11400,
          11500,
          11600,
          11700,
          11800,
          11900,
          12000,
          12100,
          12200,
          12300,
          12400,
          12500,
          12600,
          12700,
          12800,
          12900,
          13000,
          13100,
          13200,
          13300,
          13400,
          13500,
          13600,
          13700,
          13800,
          13900,
          14000,
          14100,
          14200,
          14300,
          14400,
          14500,
          14600,
          14700,
          14800,
          14900,
          15000,
          15100,
          15200,
          15300,
          15400,
          15500,
          15600,
          15700,
          15800,
          15900,
          16000,
          16100,
          16200,
          16300,
          16400,
          16500,
          16600,
          16700,
          16800,
          16900,
          17000,
          17100,
          17200,
          17300,
          17400,
          17500,
          17600,
          17700,
          17800,
          17900,
          18000,
          18100,
          18200,
          18300,
          18400,
          18500,
          18600,
          18700,
          18800,
          18900,
          19000,
          19100,
          19200,
          19300,
          19400,
          19500,
          19600,
          19700,
          19800,
          19900,
          20000,
          20100,
          20200,
          20300,
          20400,
          20500,
          20600,
          20700,
          20800,
          20900,
          21000,
          21100,
          21200,
          21300,
          21400,
          21500,
          21600,
          21700,
          21800,
          21900,
          22000,
          22100,
          22200,
          22300,
          22400,
          22500,
          22600,
          22700,
          22800,
          22900,
          23000,
          23100,
          23200,
          23300,
          23400,
          23500,
          23600,
          23700,
          23800,
          23900,
          24000,
          24100,
          24200,
          24300,
          24400,
          24500,
          24600,
          24700,
          24800,
          24900,
          25000,
          25100,
          25200,
          25300,
          25400,
          25500,
          25600,
          25700,
          25800,
          25900,
          26000,
          26100,
          26200,
          26300,
          26400,
          26500,
          26600,
          26700,
          26800,
          26900,
          27000,
          27100,
          27200,
          27300,
          27400,
          27500,
          27600,
          27700,
          27800,
          27900,
          28000,
          28100,
          28200,
          28300,
          28400,
          28500,
          28600,
          28700,
          28800,
          28900,
          29000,
          29100,
          29200,
          29300,
          29400,
          29500,
          29600,
          29700,
          29800,
          29900,
          30000,
          30100,
          30200,
          30300,
          30400,
          30500,
          30600,
          30700,
          30800,
          30900,
          31000,
          31100,
          31200,
          31300,
          31400,
          31500,
          31600,
          31700,
          31800,
          31900,
          32000,
          32100,
          32200,
          32300,
          32400,
          32500,
          32600,
          32700,
          32800,
          32900,
          33000,
          33100,
          33200,
          33300,
          33400,
          33500,
          33600,
          33700,
          33800,
          33900,
          34000,
          34100,
          34200,
          34300,
          34400,
          34500,
          34600,
          34700,
          34800,
          34900,
          35000,
          35100,
          35200,
          35300,
          35400,
          35500,
          35600,
          35700,
          35800,
          35900,
          36000,
          36100,
          36200,
          36300,
          36400,
          36500,
          36600,
          36700,
          36800,
          36900,
          37000,
          37100,
          37200,
          37300,
          37400,
          37500,
          37600,
          37700,
          37800,
          37900,
          38000,
          38100,
          38200,
          38300,
          38400,
          38500,
          38600,
          38700,
          38800,
          38900,
          39000,
          39100,
          39200,
          39300,
          39400,
          39500,
          39600,
          39700,
          39800,
          39900,
          40000,
          40100,
          40200,
          40300,
          40400,
          40500,
          40600,
          40700,
          40800,
          40900,
          41000,
          41100,
          41200,
          41300,
          41400,
          41500,
          41600,
          41700,
          41800,
          41900,
          42000,
          42100,
          42200,
          42300,
          42400,
          42500,
          42600,
          42700,
          42800,
          42900,
          43000,
          43100,
          43200,
          43300,
          43400,
          43500,
          43600,
          43700,
          43800,
          43900,
          44000,
          44100,
          44200,
          44300,
          44400,
          44500,
          44600,
          44700,
          44800,
          44900,
          45000,
          45100,
          45200,
          45300,
          45400,
          45500,
          45600,
          45700,
          45800,
          45900,
          46000,
          46100,
          46200,
          46300,
          46400,
          46500,
          46600,
          46700,
          46800,
          46900,
          47000,
          47100,
          47200,
          47300,
          47400,
          47500,
          47600,
          47700,
          47800,
          47900,
          48000,
          48100,
          48200,
          48300,
          48400,
          48500,
          48600,
          48700,
          48800,
          48900,
          49000,
          49100,
          49200,
          49300,
          49400,
          49500,
          49600,
          49700,
          49800,
          49900,
          50000,
          50100,
          50200,
          50300,
          50400,
          50500,
          50600,
          50700,
          50800,
          50900,
          51000,
          51100,
          51200,
          51300,
          51400,
          51500,
          51600,
          51700,
          51800,
          51900,
          52000,
          52100,
          52200,
          52300,
          52400,
          52500,
          52600,
          52700,
          52800,
          52900,
          53000,
          53100,
          53200,
          53300,
          53400,
          53500,
          53600,
          53700,
          53800,
          53900,
          54000,
          54100,
          54200,
          54300,
          54400,
          54500,
          54600,
          54700,
          54800,
          54900,
          55000,
          55100,
          55200,
          55300,
          55400,
          55500,
          55600,
          55700,
          55800,
          55900,
          56000,
          56100,
          56200,
          56300,
          56400,
          56500,
          56600,
          56700,
          56800,
          56900,
          57000,
          57100,
          57200,
          57300,
          57400,
          57500,
          57600,
          57700,
          57800,
          57900,
          58000,
          58100,
          58200,
          58300,
          58400,
          58500,
          58600,
          58700,
          58800,
          58900,
          59000,
          59100,
          59200,
          59300,
          59400,
          59500,
          59600,
          59700,
          59800,
          59900,
          60000,
          60100,
          60200,
          60300,
          60400,
          60500,
          60600,
          60700,
          60800,
          60900,
          61000,
          61100,
          61200,
          61300,
          61400,
          61500,
          61600,
          61700,
          61800,
          61900,
          62000,
          62100,
          62200,
          62300,
          62400,
          62500,
          62600,
          62700,
          62800,
          62900,
          63000,
          63100,
          63200,
          63300,
          63400,
          63500,
          63600,
          63700,
          63800,
          63900,
          64000,
          64100,
          64200,
          64300,
          64400,
          64500,
          64600,
          64700,
          64800,
          64900,
          65000,
          65100,
          65200,
          65300,
          65400,
          65500,
          65600,
          65700,
          65800,
          65900,
          66000,
          66100,
          66200,
          66300,
          66400,
          66500,
          66600,
          66700,
          66800,
          66900,
          67000,
          67100,
          67200,
          67300,
          67400,
          67500,
          67600,
          67700,
          67800,
          67900,
          68000,
          68100,
          68200,
          68300,
          68400,
          68500,
          68600,
          68700,
          68800,
          68900,
          69000,
          69100,
          69200,
          69300,
          69400,
          69500,
          69600,
          69700,
          69800,
          69900,
          70000,
          70100,
          70200,
          70300,
          70400,
          70500,
          70600,
          70700,
          70800,
          70900,
          71000,
          71100,
          71200,
          71300,
          71400,
          71500,
          71600,
          71700,
          71800,
          71900,
          72000,
          72100,
          72200,
          72300,
          72400,
          72500,
          72600,
          72700,
          72800,
          72900,
          73000,
          73100,
          73200,
          73300,
          73400,
          73500,
          73600,
          73700,
          73800,
          73900,
          74000,
          74100,
          74200,
          74300,
          74400,
          74500,
          74600,
          74700,
          74800,
          74900,
          75000,
          75100,
          75200,
          75300,
          75400,
          75500,
          75600,
          75700,
          75800,
          75900,
          76000,
          76100,
          76200,
          76300,
          76400,
          76500,
          76600,
          76700,
          76800,
          76900,
          77000,
          77100,
          77200,
          77300,
          77400,
          77500,
          77600,
          77700,
          77800,
          77900,
          78000,
          78100,
          78200,
          78300,
          78400,
          78500,
          78600,
          78700,
          78800,
          78900,
          79000,
          79100,
          79200,
          79300,
          79400,
          79500,
          79600,
          79700,
          79800,
          79900,
          80000,
          80100,
          80200,
          80300,
          80400,
          80500,
          80600,
          80700,
          80800,
          80900,
          81000,
          81100,
          81200,
          81300,
          81400,
          81500,
          81600,
          81700,
          81800,
          81900,
          82000,
          82100,
          82200,
          82300,
          82400,
          82500,
          82600,
          82700,
          82800,
          82900,
          83000,
          83100,
          83200,
          83300,
          83400,
          83500,
          83600,
          83700,
          83800,
          83900,
          84000,
          84100,
          84200,
          84300,
          84400,
          84500,
          84600,
          84700,
          84800,
          84900,
          85000,
          85100,
          85200,
          85300,
          85400,
          85500,
          85600,
          85700,
          85800,
          85900,
          86000,
          86100,
          86200,
          86300,
          86400,
          86500,
          86600,
          86700,
          86800,
          86900,
          87000,
          87100,
          87200,
          87300,
          87400,
          87500,
          87600,
          87700,
          87800,
          87900,
          88000,
          88100,
          88200,
          88300,
          88400,
          88500,
          88600,
          88700,
          88800,
          88900,
          89000,
          89100,
          89200,
          89300,
          89400,
          89500,
          89600,
          89700,
          89800,
          89900,
          90000,
          90100,
          90200,
          90300,
          90400,
          90500,
          90600,
          90700,
          90800,
          90900,
          91000,
          91100,
          91200,
          91300,
          91400,
          91500,
          91600,
          91700,
          91800,
          91900,
          92000,
          92100,
          92200,
          92300,
          92400,
          92500,
          92600,
          92700,
          92800,
          92900,
          93000,
          93100,
          93200,
          93300,
          93400,
          93500,
          93600,
          93700,
          93800,
          93900,
          94000,
          94100,
          94200,
          94300,
          94400,
          94500,
          94600,
          94700,
          94800,
          94900,
          95000,
          95100,
          95200,
          95300,
          95400,
          95500,
          95600,
          95700,
          95800,
          95900,
          96000,
          96100,
          96200,
          96300,
          96400,
          96500,
          96600,
          96700,
          96800,
          96900,
          97000,
          97100,
          97200,
          97300,
          97400,
          97500,
          97600,
          97700,
          97800,
          97900,
          98000,
          98100,
          98200,
          98300,
          98400,
          98500,
          98600,
          98700,
          98800,
          98900,
          99000,
          99100,
          99200,
          99300,
          99400,
          99500,
          99600,
          99700,
          99800,
          99900,
          100000
         ],
         "xaxis": "x",
         "y": [
          2748,
          2745.5,
          2743,
          2740.5,
          2738,
          2735.5,
          2733,
          2730.5,
          2728,
          2725.5,
          2723,
          2720.5,
          2718,
          2715.5,
          2713,
          2710.5,
          2708,
          2705.5,
          2703,
          2700.5,
          2698,
          2695.5,
          2693,
          2690.5,
          2688,
          2685.5,
          2683,
          2680.5,
          2678,
          2675.5,
          2673,
          2670.5,
          2668,
          2665.5,
          2663,
          2660.5,
          2658,
          2655.5,
          2653,
          2650.5,
          2648,
          2645.5,
          2643,
          2640.5,
          2638,
          2635.5,
          2633,
          2630.5,
          2628,
          2625.5,
          2623,
          2620.5,
          2618,
          2615.5,
          2613,
          2610.5,
          2608,
          2605.5,
          2603,
          2600.5,
          2598,
          2595.5,
          2593,
          2590.5,
          2588,
          2585.5,
          2583,
          2580.5,
          2578,
          2575.5,
          2573,
          2570.5,
          2568,
          2565.5,
          2563,
          2560.5,
          2558,
          2555.5,
          2553,
          2550.5,
          2548,
          2545.5,
          2543,
          2540.5,
          2538,
          2535.5,
          2533,
          2530.5,
          2528,
          2525.5,
          2523,
          2520.5,
          2518,
          2515.5,
          2513,
          2510.5,
          2508,
          2505.5,
          2503,
          2500.5,
          2498,
          2495.5,
          2493,
          2490.5,
          2488,
          2485.5,
          2483,
          2480.5,
          2478,
          2475.5,
          2473,
          2470.5,
          2468,
          2465.5,
          2463,
          2460.5,
          2458,
          2455.5,
          2453,
          2450.5,
          2448,
          2445.5,
          2443,
          2440.5,
          2438,
          2435.5,
          2433,
          2430.5,
          2428,
          2425.5,
          2423,
          2420.5,
          2418,
          2415.5,
          2413,
          2410.5,
          2408,
          2405.5,
          2403,
          2400.5,
          2398,
          2395.5,
          2393,
          2390.5,
          2388,
          2385.5,
          2383,
          2380.5,
          2378,
          2375.5,
          2373,
          2370.5,
          2368,
          2365.5,
          2363,
          2360.5,
          2358,
          2355.5,
          2353,
          2350.5,
          2348,
          2345.5,
          2343,
          2340.5,
          2338,
          2335.5,
          2333,
          2330.5,
          2328,
          2325.5,
          2323,
          2320.5,
          2318,
          2315.5,
          2313,
          2310.5,
          2308,
          2305.5,
          2303,
          2300.5,
          2298,
          2295.5,
          2293,
          2290.5,
          2288,
          2285.5,
          2283,
          2280.5,
          2278,
          2275.5,
          2273,
          2270.5,
          2268,
          2265.5,
          2263,
          2260.5,
          2258,
          2255.5,
          2253,
          2250.5,
          2248,
          2245.5,
          2243,
          2240.5,
          2238,
          2235.5,
          2233,
          2230.5,
          2228,
          2225.5,
          2223,
          2220.5,
          2218,
          2215.5,
          2213,
          2210.5,
          2208,
          2205.5,
          2203,
          2200.5,
          2198,
          2195.5,
          2193,
          2190.5,
          2188,
          2185.5,
          2183,
          2180.5,
          2178,
          2175.5,
          2173,
          2170.5,
          2168,
          2165.5,
          2163,
          2160.5,
          2158,
          2155.5,
          2153,
          2150.5,
          2148,
          2145.5,
          2143,
          2140.5,
          2138,
          2135.5,
          2133,
          2130.5,
          2128,
          2125.5,
          2123,
          2120.5,
          2118,
          2115.5,
          2113,
          2110.5,
          2108,
          2105.5,
          2103,
          2100.5,
          2098,
          2095.5,
          2093,
          2090.5,
          2088,
          2085.5,
          2083,
          2080.5,
          2078,
          2075.5,
          2073,
          2070.5,
          2068,
          2065.5,
          2063,
          2060.5,
          2058,
          2055.5,
          2053,
          2050.5,
          2048,
          2045.5,
          2043,
          2040.5,
          2038,
          2035.5,
          2033,
          2030.5,
          2028,
          2025.5,
          2023,
          2020.5,
          2018,
          2015.5,
          2013,
          2010.5,
          2008,
          2005.5,
          2003,
          2000.5,
          1998,
          1995.5,
          1993,
          1990.5,
          1988,
          1985.5,
          1983,
          1980.5,
          1978,
          1975.5,
          1973,
          1970.5,
          1968,
          1965.5,
          1963,
          1960.5,
          1958,
          1955.5,
          1953,
          1950.5,
          1948,
          1945.5,
          1943,
          1940.5,
          1938,
          1935.5,
          1933,
          1930.5,
          1928,
          1925.5,
          1923,
          1920.5,
          1918,
          1915.5,
          1913,
          1910.5,
          1908,
          1905.5,
          1903,
          1900.5,
          1898,
          1895.5,
          1893,
          1890.5,
          1888,
          1885.5,
          1883,
          1880.5,
          1878,
          1875.5,
          1873,
          1870.5,
          1868,
          1865.5,
          1863,
          1860.5,
          1858,
          1855.5,
          1853,
          1850.5,
          1848,
          1845.5,
          1843,
          1840.5,
          1838,
          1835.5,
          1833,
          1830.5,
          1828,
          1825.5,
          1823,
          1820.5,
          1818,
          1815.5,
          1813,
          1810.5,
          1808,
          1805.5,
          1803,
          1800.5,
          1798,
          1795.5,
          1793,
          1790.5,
          1788,
          1785.5,
          1783,
          1780.5,
          1778,
          1775.5,
          1773,
          1770.5,
          1768,
          1765.5,
          1763,
          1760.5,
          1758,
          1755.5,
          1753,
          1750.5,
          1748,
          1745.5,
          1743,
          1740.5,
          1738,
          1735.5,
          1733,
          1730.5,
          1728,
          1725.5,
          1722.9998779296875,
          1720.4998779296875,
          1717.9998779296875,
          1715.4998779296875,
          1712.9998779296875,
          1710.4998779296875,
          1707.9998779296875,
          1705.4998779296875,
          1702.9998779296875,
          1700.4998779296875,
          1697.9998779296875,
          1695.4998779296875,
          1692.9998779296875,
          1690.4998779296875,
          1687.9998779296875,
          1685.4998779296875,
          1682.9998779296875,
          1680.4998779296875,
          1677.9998779296875,
          1675.4998779296875,
          1672.9998779296875,
          1670.4998779296875,
          1667.9998779296875,
          1665.4998779296875,
          1662.9998779296875,
          1660.4998779296875,
          1657.9998779296875,
          1655.4998779296875,
          1652.9998779296875,
          1650.4998779296875,
          1647.9998779296875,
          1645.4998779296875,
          1642.9998779296875,
          1640.4998779296875,
          1637.9998779296875,
          1635.4998779296875,
          1632.9998779296875,
          1630.4998779296875,
          1627.9998779296875,
          1625.4998779296875,
          1622.9998779296875,
          1620.4998779296875,
          1617.9998779296875,
          1615.4998779296875,
          1612.9998779296875,
          1610.4998779296875,
          1607.9998779296875,
          1605.4998779296875,
          1602.9998779296875,
          1600.4998779296875,
          1597.9998779296875,
          1595.4998779296875,
          1592.9998779296875,
          1590.4998779296875,
          1587.9998779296875,
          1585.4998779296875,
          1582.9998779296875,
          1580.4998779296875,
          1577.9998779296875,
          1575.4998779296875,
          1572.9998779296875,
          1570.4998779296875,
          1567.9998779296875,
          1565.4998779296875,
          1562.9998779296875,
          1560.4998779296875,
          1557.9998779296875,
          1555.4998779296875,
          1552.9998779296875,
          1550.4998779296875,
          1547.9998779296875,
          1545.4998779296875,
          1542.9998779296875,
          1540.4998779296875,
          1537.9998779296875,
          1535.4998779296875,
          1532.9998779296875,
          1530.4998779296875,
          1527.9998779296875,
          1525.4998779296875,
          1522.9998779296875,
          1520.4998779296875,
          1517.9998779296875,
          1515.4998779296875,
          1512.9998779296875,
          1510.4998779296875,
          1507.9998779296875,
          1505.4998779296875,
          1502.9998779296875,
          1500.4998779296875,
          1497.9998779296875,
          1495.4998779296875,
          1492.9998779296875,
          1490.4998779296875,
          1487.9998779296875,
          1485.4998779296875,
          1482.9998779296875,
          1480.4998779296875,
          1477.9998779296875,
          1475.4998779296875,
          1472.9998779296875,
          1470.4998779296875,
          1467.9998779296875,
          1465.4998779296875,
          1462.9998779296875,
          1460.4998779296875,
          1457.9998779296875,
          1455.4998779296875,
          1452.9998779296875,
          1450.4998779296875,
          1447.9998779296875,
          1445.4998779296875,
          1442.9998779296875,
          1440.4998779296875,
          1437.9998779296875,
          1435.4998779296875,
          1432.9998779296875,
          1430.4998779296875,
          1427.9998779296875,
          1425.4998779296875,
          1422.9998779296875,
          1420.4998779296875,
          1417.9998779296875,
          1415.4998779296875,
          1412.9998779296875,
          1410.4998779296875,
          1407.9998779296875,
          1405.4998779296875,
          1402.9998779296875,
          1400.4998779296875,
          1397.9998779296875,
          1395.4998779296875,
          1392.9998779296875,
          1390.4998779296875,
          1387.9998779296875,
          1385.4998779296875,
          1382.9998779296875,
          1380.5,
          1378,
          1375.5,
          1373,
          1370.5,
          1368,
          1365.5,
          1363,
          1360.5,
          1358,
          1355.5,
          1353,
          1350.5,
          1348,
          1345.5,
          1343,
          1340.5,
          1338,
          1335.5,
          1333,
          1330.5,
          1328,
          1325.5,
          1323,
          1320.5,
          1318,
          1315.5,
          1313,
          1310.5,
          1308,
          1305.5,
          1303,
          1300.5,
          1298,
          1295.5,
          1293,
          1290.5,
          1288,
          1285.5,
          1283,
          1280.5,
          1278,
          1275.5,
          1273,
          1270.5,
          1268,
          1265.5,
          1263,
          1260.5,
          1258,
          1255.5,
          1253,
          1250.5,
          1248,
          1245.5,
          1243,
          1240.5,
          1238,
          1235.5,
          1233,
          1230.5,
          1228,
          1225.5,
          1223,
          1220.5,
          1218,
          1215.5,
          1213,
          1210.5,
          1208,
          1205.5,
          1203,
          1200.5,
          1198,
          1195.5,
          1193,
          1190.5,
          1188,
          1185.5,
          1183,
          1180.5,
          1178,
          1175.5,
          1173,
          1170.5,
          1168,
          1165.5,
          1163,
          1160.5,
          1158,
          1155.5,
          1153,
          1150.5,
          1148,
          1145.5,
          1143,
          1140.5,
          1138,
          1135.5,
          1133,
          1130.5,
          1128,
          1125.5,
          1123,
          1120.5,
          1118,
          1115.5,
          1113,
          1110.5,
          1108,
          1105.5,
          1103,
          1100.5,
          1098,
          1095.5,
          1093,
          1090.5,
          1088,
          1085.5,
          1083,
          1080.5,
          1078,
          1075.5,
          1073,
          1070.5,
          1068,
          1065.5,
          1063,
          1060.5,
          1058,
          1055.5,
          1053,
          1050.5,
          1048,
          1045.5,
          1043,
          1040.5,
          1038,
          1035.5,
          1033,
          1030.5,
          1028,
          1025.5,
          1023,
          1020.5,
          1018,
          1015.5,
          1013,
          1010.5,
          1008,
          1005.5,
          1003,
          1000.5,
          998,
          995.5,
          993,
          990.5,
          988,
          985.5,
          983,
          980.5,
          978,
          975.5,
          973,
          970.5,
          968,
          965.5,
          963,
          960.5,
          958,
          955.5,
          953,
          950.5,
          948,
          945.5,
          943,
          940.5,
          938,
          935.5,
          933,
          930.5,
          928,
          925.5,
          923,
          920.5,
          918,
          915.5,
          913,
          910.5,
          908,
          905.5,
          903,
          900.5,
          898,
          895.5,
          893,
          890.5,
          888,
          885.5,
          883,
          880.5,
          878,
          875.5,
          873,
          870.5,
          868,
          865.5,
          863,
          860.5,
          858,
          855.5,
          853,
          850.5,
          848,
          845.5,
          843,
          840.5,
          838,
          835.5,
          833,
          830.5,
          828,
          825.5,
          823,
          820.5,
          818,
          815.5,
          813,
          810.5,
          808,
          805.5,
          803,
          800.5,
          798,
          795.5,
          793,
          790.5,
          788,
          785.5,
          783,
          780.5,
          778,
          775.5,
          773,
          770.5,
          768,
          765.5,
          763,
          760.5,
          758,
          755.5,
          753,
          750.5,
          748,
          745.5,
          743,
          740.5,
          738,
          735.5,
          733,
          730.5,
          728,
          725.5,
          723,
          720.5,
          718,
          715.5,
          713,
          710.5,
          708,
          705.5,
          703,
          700.5,
          697.999755859375,
          695.499755859375,
          692.999755859375,
          690.499755859375,
          687.999755859375,
          685.499755859375,
          682.999755859375,
          680.499755859375,
          677.999755859375,
          675.499755859375,
          672.999755859375,
          670.499755859375,
          667.999755859375,
          665.499755859375,
          662.999755859375,
          660.499755859375,
          657.999755859375,
          655.499755859375,
          652.999755859375,
          650.499755859375,
          647.999755859375,
          645.499755859375,
          642.999755859375,
          640.499755859375,
          637.999755859375,
          635.499755859375,
          632.999755859375,
          630.499755859375,
          627.999755859375,
          625.499755859375,
          622.999755859375,
          620.499755859375,
          617.999755859375,
          615.499755859375,
          612.999755859375,
          610.499755859375,
          607.999755859375,
          605.499755859375,
          602.999755859375,
          600.499755859375,
          597.999755859375,
          595.499755859375,
          592.999755859375,
          590.499755859375,
          587.999755859375,
          585.499755859375,
          582.999755859375,
          580.499755859375,
          577.999755859375,
          575.499755859375,
          572.999755859375,
          570.499755859375,
          567.999755859375,
          565.499755859375,
          562.999755859375,
          560.499755859375,
          557.999755859375,
          555.499755859375,
          552.999755859375,
          550.499755859375,
          547.999755859375,
          545.499755859375,
          542.999755859375,
          540.499755859375,
          537.999755859375,
          535.499755859375,
          532.999755859375,
          530.499755859375,
          527.999755859375,
          525.499755859375,
          522.999755859375,
          520.499755859375,
          517.999755859375,
          515.499755859375,
          512.999755859375,
          510.499755859375,
          507.999755859375,
          505.499755859375,
          502.999755859375,
          500.499755859375,
          497.999755859375,
          495.499755859375,
          492.999755859375,
          490.499755859375,
          487.999755859375,
          485.499755859375,
          482.999755859375,
          480.499755859375,
          477.999755859375,
          475.499755859375,
          472.999755859375,
          470.499755859375,
          467.999755859375,
          465.499755859375,
          462.999755859375,
          460.499755859375,
          457.999755859375,
          455.499755859375,
          452.999755859375,
          450.499755859375,
          447.999755859375,
          445.499755859375,
          442.999755859375,
          440.499755859375,
          437.999755859375,
          435.499755859375,
          432.999755859375,
          430.499755859375,
          427.999755859375,
          425.499755859375,
          422.999755859375,
          420.499755859375,
          417.999755859375,
          415.499755859375,
          412.999755859375,
          410.499755859375,
          407.999755859375,
          405.499755859375,
          402.999755859375,
          400.499755859375,
          397.999755859375,
          395.499755859375,
          392.999755859375,
          390.499755859375,
          387.999755859375,
          385.499755859375,
          382.999755859375,
          380.499755859375,
          377.999755859375,
          375.499755859375,
          372.999755859375,
          370.499755859375,
          367.999755859375,
          365.499755859375,
          362.999755859375,
          360.499755859375,
          357.999755859375,
          355.499755859375,
          352.999755859375,
          350.499755859375,
          347.999755859375,
          345.499755859375,
          342.999755859375,
          340.499755859375,
          337.999755859375,
          335.499755859375,
          332.999755859375,
          330.499755859375,
          327.999755859375,
          325.499755859375,
          322.999755859375,
          320.499755859375,
          317.999755859375,
          315.499755859375,
          312.999755859375,
          310.499755859375,
          307.999755859375,
          305.499755859375,
          302.999755859375,
          300.499755859375,
          297.999755859375,
          295.499755859375,
          292.999755859375,
          290.499755859375,
          287.999755859375,
          285.499755859375,
          282.999755859375,
          280.499755859375,
          277.999755859375,
          275.499755859375,
          272.999755859375,
          270.499755859375,
          267.999755859375,
          265.499755859375,
          262.999755859375,
          260.499755859375,
          257.999755859375,
          255.499755859375,
          252.999755859375,
          250.499755859375,
          247.999755859375
         ],
         "yaxis": "y"
        }
       ],
       "layout": {
        "legend": {
         "tracegroupgap": 0
        },
        "template": {
         "data": {
          "bar": [
           {
            "error_x": {
             "color": "#2a3f5f"
            },
            "error_y": {
             "color": "#2a3f5f"
            },
            "marker": {
             "line": {
              "color": "#E5ECF6",
              "width": 0.5
             },
             "pattern": {
              "fillmode": "overlay",
              "size": 10,
              "solidity": 0.2
             }
            },
            "type": "bar"
           }
          ],
          "barpolar": [
           {
            "marker": {
             "line": {
              "color": "#E5ECF6",
              "width": 0.5
             },
             "pattern": {
              "fillmode": "overlay",
              "size": 10,
              "solidity": 0.2
             }
            },
            "type": "barpolar"
           }
          ],
          "carpet": [
           {
            "aaxis": {
             "endlinecolor": "#2a3f5f",
             "gridcolor": "white",
             "linecolor": "white",
             "minorgridcolor": "white",
             "startlinecolor": "#2a3f5f"
            },
            "baxis": {
             "endlinecolor": "#2a3f5f",
             "gridcolor": "white",
             "linecolor": "white",
             "minorgridcolor": "white",
             "startlinecolor": "#2a3f5f"
            },
            "type": "carpet"
           }
          ],
          "choropleth": [
           {
            "colorbar": {
             "outlinewidth": 0,
             "ticks": ""
            },
            "type": "choropleth"
           }
          ],
          "contour": [
           {
            "colorbar": {
             "outlinewidth": 0,
             "ticks": ""
            },
            "colorscale": [
             [
              0,
              "#0d0887"
             ],
             [
              0.1111111111111111,
              "#46039f"
             ],
             [
              0.2222222222222222,
              "#7201a8"
             ],
             [
              0.3333333333333333,
              "#9c179e"
             ],
             [
              0.4444444444444444,
              "#bd3786"
             ],
             [
              0.5555555555555556,
              "#d8576b"
             ],
             [
              0.6666666666666666,
              "#ed7953"
             ],
             [
              0.7777777777777778,
              "#fb9f3a"
             ],
             [
              0.8888888888888888,
              "#fdca26"
             ],
             [
              1,
              "#f0f921"
             ]
            ],
            "type": "contour"
           }
          ],
          "contourcarpet": [
           {
            "colorbar": {
             "outlinewidth": 0,
             "ticks": ""
            },
            "type": "contourcarpet"
           }
          ],
          "heatmap": [
           {
            "colorbar": {
             "outlinewidth": 0,
             "ticks": ""
            },
            "colorscale": [
             [
              0,
              "#0d0887"
             ],
             [
              0.1111111111111111,
              "#46039f"
             ],
             [
              0.2222222222222222,
              "#7201a8"
             ],
             [
              0.3333333333333333,
              "#9c179e"
             ],
             [
              0.4444444444444444,
              "#bd3786"
             ],
             [
              0.5555555555555556,
              "#d8576b"
             ],
             [
              0.6666666666666666,
              "#ed7953"
             ],
             [
              0.7777777777777778,
              "#fb9f3a"
             ],
             [
              0.8888888888888888,
              "#fdca26"
             ],
             [
              1,
              "#f0f921"
             ]
            ],
            "type": "heatmap"
           }
          ],
          "heatmapgl": [
           {
            "colorbar": {
             "outlinewidth": 0,
             "ticks": ""
            },
            "colorscale": [
             [
              0,
              "#0d0887"
             ],
             [
              0.1111111111111111,
              "#46039f"
             ],
             [
              0.2222222222222222,
              "#7201a8"
             ],
             [
              0.3333333333333333,
              "#9c179e"
             ],
             [
              0.4444444444444444,
              "#bd3786"
             ],
             [
              0.5555555555555556,
              "#d8576b"
             ],
             [
              0.6666666666666666,
              "#ed7953"
             ],
             [
              0.7777777777777778,
              "#fb9f3a"
             ],
             [
              0.8888888888888888,
              "#fdca26"
             ],
             [
              1,
              "#f0f921"
             ]
            ],
            "type": "heatmapgl"
           }
          ],
          "histogram": [
           {
            "marker": {
             "pattern": {
              "fillmode": "overlay",
              "size": 10,
              "solidity": 0.2
             }
            },
            "type": "histogram"
           }
          ],
          "histogram2d": [
           {
            "colorbar": {
             "outlinewidth": 0,
             "ticks": ""
            },
            "colorscale": [
             [
              0,
              "#0d0887"
             ],
             [
              0.1111111111111111,
              "#46039f"
             ],
             [
              0.2222222222222222,
              "#7201a8"
             ],
             [
              0.3333333333333333,
              "#9c179e"
             ],
             [
              0.4444444444444444,
              "#bd3786"
             ],
             [
              0.5555555555555556,
              "#d8576b"
             ],
             [
              0.6666666666666666,
              "#ed7953"
             ],
             [
              0.7777777777777778,
              "#fb9f3a"
             ],
             [
              0.8888888888888888,
              "#fdca26"
             ],
             [
              1,
              "#f0f921"
             ]
            ],
            "type": "histogram2d"
           }
          ],
          "histogram2dcontour": [
           {
            "colorbar": {
             "outlinewidth": 0,
             "ticks": ""
            },
            "colorscale": [
             [
              0,
              "#0d0887"
             ],
             [
              0.1111111111111111,
              "#46039f"
             ],
             [
              0.2222222222222222,
              "#7201a8"
             ],
             [
              0.3333333333333333,
              "#9c179e"
             ],
             [
              0.4444444444444444,
              "#bd3786"
             ],
             [
              0.5555555555555556,
              "#d8576b"
             ],
             [
              0.6666666666666666,
              "#ed7953"
             ],
             [
              0.7777777777777778,
              "#fb9f3a"
             ],
             [
              0.8888888888888888,
              "#fdca26"
             ],
             [
              1,
              "#f0f921"
             ]
            ],
            "type": "histogram2dcontour"
           }
          ],
          "mesh3d": [
           {
            "colorbar": {
             "outlinewidth": 0,
             "ticks": ""
            },
            "type": "mesh3d"
           }
          ],
          "parcoords": [
           {
            "line": {
             "colorbar": {
              "outlinewidth": 0,
              "ticks": ""
             }
            },
            "type": "parcoords"
           }
          ],
          "pie": [
           {
            "automargin": true,
            "type": "pie"
           }
          ],
          "scatter": [
           {
            "fillpattern": {
             "fillmode": "overlay",
             "size": 10,
             "solidity": 0.2
            },
            "type": "scatter"
           }
          ],
          "scatter3d": [
           {
            "line": {
             "colorbar": {
              "outlinewidth": 0,
              "ticks": ""
             }
            },
            "marker": {
             "colorbar": {
              "outlinewidth": 0,
              "ticks": ""
             }
            },
            "type": "scatter3d"
           }
          ],
          "scattercarpet": [
           {
            "marker": {
             "colorbar": {
              "outlinewidth": 0,
              "ticks": ""
             }
            },
            "type": "scattercarpet"
           }
          ],
          "scattergeo": [
           {
            "marker": {
             "colorbar": {
              "outlinewidth": 0,
              "ticks": ""
             }
            },
            "type": "scattergeo"
           }
          ],
          "scattergl": [
           {
            "marker": {
             "colorbar": {
              "outlinewidth": 0,
              "ticks": ""
             }
            },
            "type": "scattergl"
           }
          ],
          "scattermapbox": [
           {
            "marker": {
             "colorbar": {
              "outlinewidth": 0,
              "ticks": ""
             }
            },
            "type": "scattermapbox"
           }
          ],
          "scatterpolar": [
           {
            "marker": {
             "colorbar": {
              "outlinewidth": 0,
              "ticks": ""
             }
            },
            "type": "scatterpolar"
           }
          ],
          "scatterpolargl": [
           {
            "marker": {
             "colorbar": {
              "outlinewidth": 0,
              "ticks": ""
             }
            },
            "type": "scatterpolargl"
           }
          ],
          "scatterternary": [
           {
            "marker": {
             "colorbar": {
              "outlinewidth": 0,
              "ticks": ""
             }
            },
            "type": "scatterternary"
           }
          ],
          "surface": [
           {
            "colorbar": {
             "outlinewidth": 0,
             "ticks": ""
            },
            "colorscale": [
             [
              0,
              "#0d0887"
             ],
             [
              0.1111111111111111,
              "#46039f"
             ],
             [
              0.2222222222222222,
              "#7201a8"
             ],
             [
              0.3333333333333333,
              "#9c179e"
             ],
             [
              0.4444444444444444,
              "#bd3786"
             ],
             [
              0.5555555555555556,
              "#d8576b"
             ],
             [
              0.6666666666666666,
              "#ed7953"
             ],
             [
              0.7777777777777778,
              "#fb9f3a"
             ],
             [
              0.8888888888888888,
              "#fdca26"
             ],
             [
              1,
              "#f0f921"
             ]
            ],
            "type": "surface"
           }
          ],
          "table": [
           {
            "cells": {
             "fill": {
              "color": "#EBF0F8"
             },
             "line": {
              "color": "white"
             }
            },
            "header": {
             "fill": {
              "color": "#C8D4E3"
             },
             "line": {
              "color": "white"
             }
            },
            "type": "table"
           }
          ]
         },
         "layout": {
          "annotationdefaults": {
           "arrowcolor": "#2a3f5f",
           "arrowhead": 0,
           "arrowwidth": 1
          },
          "autotypenumbers": "strict",
          "coloraxis": {
           "colorbar": {
            "outlinewidth": 0,
            "ticks": ""
           }
          },
          "colorscale": {
           "diverging": [
            [
             0,
             "#8e0152"
            ],
            [
             0.1,
             "#c51b7d"
            ],
            [
             0.2,
             "#de77ae"
            ],
            [
             0.3,
             "#f1b6da"
            ],
            [
             0.4,
             "#fde0ef"
            ],
            [
             0.5,
             "#f7f7f7"
            ],
            [
             0.6,
             "#e6f5d0"
            ],
            [
             0.7,
             "#b8e186"
            ],
            [
             0.8,
             "#7fbc41"
            ],
            [
             0.9,
             "#4d9221"
            ],
            [
             1,
             "#276419"
            ]
           ],
           "sequential": [
            [
             0,
             "#0d0887"
            ],
            [
             0.1111111111111111,
             "#46039f"
            ],
            [
             0.2222222222222222,
             "#7201a8"
            ],
            [
             0.3333333333333333,
             "#9c179e"
            ],
            [
             0.4444444444444444,
             "#bd3786"
            ],
            [
             0.5555555555555556,
             "#d8576b"
            ],
            [
             0.6666666666666666,
             "#ed7953"
            ],
            [
             0.7777777777777778,
             "#fb9f3a"
            ],
            [
             0.8888888888888888,
             "#fdca26"
            ],
            [
             1,
             "#f0f921"
            ]
           ],
           "sequentialminus": [
            [
             0,
             "#0d0887"
            ],
            [
             0.1111111111111111,
             "#46039f"
            ],
            [
             0.2222222222222222,
             "#7201a8"
            ],
            [
             0.3333333333333333,
             "#9c179e"
            ],
            [
             0.4444444444444444,
             "#bd3786"
            ],
            [
             0.5555555555555556,
             "#d8576b"
            ],
            [
             0.6666666666666666,
             "#ed7953"
            ],
            [
             0.7777777777777778,
             "#fb9f3a"
            ],
            [
             0.8888888888888888,
             "#fdca26"
            ],
            [
             1,
             "#f0f921"
            ]
           ]
          },
          "colorway": [
           "#636efa",
           "#EF553B",
           "#00cc96",
           "#ab63fa",
           "#FFA15A",
           "#19d3f3",
           "#FF6692",
           "#B6E880",
           "#FF97FF",
           "#FECB52"
          ],
          "font": {
           "color": "#2a3f5f"
          },
          "geo": {
           "bgcolor": "white",
           "lakecolor": "white",
           "landcolor": "#E5ECF6",
           "showlakes": true,
           "showland": true,
           "subunitcolor": "white"
          },
          "hoverlabel": {
           "align": "left"
          },
          "hovermode": "closest",
          "mapbox": {
           "style": "light"
          },
          "paper_bgcolor": "white",
          "plot_bgcolor": "#E5ECF6",
          "polar": {
           "angularaxis": {
            "gridcolor": "white",
            "linecolor": "white",
            "ticks": ""
           },
           "bgcolor": "#E5ECF6",
           "radialaxis": {
            "gridcolor": "white",
            "linecolor": "white",
            "ticks": ""
           }
          },
          "scene": {
           "xaxis": {
            "backgroundcolor": "#E5ECF6",
            "gridcolor": "white",
            "gridwidth": 2,
            "linecolor": "white",
            "showbackground": true,
            "ticks": "",
            "zerolinecolor": "white"
           },
           "yaxis": {
            "backgroundcolor": "#E5ECF6",
            "gridcolor": "white",
            "gridwidth": 2,
            "linecolor": "white",
            "showbackground": true,
            "ticks": "",
            "zerolinecolor": "white"
           },
           "zaxis": {
            "backgroundcolor": "#E5ECF6",
            "gridcolor": "white",
            "gridwidth": 2,
            "linecolor": "white",
            "showbackground": true,
            "ticks": "",
            "zerolinecolor": "white"
           }
          },
          "shapedefaults": {
           "line": {
            "color": "#2a3f5f"
           }
          },
          "ternary": {
           "aaxis": {
            "gridcolor": "white",
            "linecolor": "white",
            "ticks": ""
           },
           "baxis": {
            "gridcolor": "white",
            "linecolor": "white",
            "ticks": ""
           },
           "bgcolor": "#E5ECF6",
           "caxis": {
            "gridcolor": "white",
            "linecolor": "white",
            "ticks": ""
           }
          },
          "title": {
           "x": 0.05
          },
          "xaxis": {
           "automargin": true,
           "gridcolor": "white",
           "linecolor": "white",
           "ticks": "",
           "title": {
            "standoff": 15
           },
           "zerolinecolor": "white",
           "zerolinewidth": 2
          },
          "yaxis": {
           "automargin": true,
           "gridcolor": "white",
           "linecolor": "white",
           "ticks": "",
           "title": {
            "standoff": 15
           },
           "zerolinecolor": "white",
           "zerolinewidth": 2
          }
         }
        },
        "title": {
         "text": "Housing assistance by employment income"
        },
        "xaxis": {
         "anchor": "y",
         "domain": [
          0,
          1
         ],
         "tickformat": "$,",
         "title": {
          "text": "Monthly employment income"
         }
        },
        "yaxis": {
         "anchor": "x",
         "domain": [
          0,
          1
         ],
         "tickformat": "$,",
         "title": {
          "text": "housing_assistance"
         }
        }
       }
      }
     },
     "metadata": {},
     "output_type": "display_data"
    }
   ],
   "source": [
    "make_graph(\"employment_income\", \"Housing assistance by employment income\", 100000)"
   ]
  }
 ],
 "metadata": {
  "kernelspec": {
   "display_name": "Python 3.7.11 ('py37')",
   "language": "python",
   "name": "python3"
  },
  "language_info": {
   "codemirror_mode": {
    "name": "ipython",
    "version": 3
   },
   "file_extension": ".py",
   "mimetype": "text/x-python",
   "name": "python",
   "nbconvert_exporter": "python",
   "pygments_lexer": "ipython3",
   "version": "3.7.11"
  },
  "vscode": {
   "interpreter": {
    "hash": "ce7c4b2d8cb88b6be0c7cc05df8418bd0daac6ca86c52a9668f37ab364d791dc"
   }
  }
 },
 "nbformat": 4,
 "nbformat_minor": 4
}
