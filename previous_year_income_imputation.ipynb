{
 "cells": [
  {
   "cell_type": "code",
   "execution_count": 1,
   "metadata": {},
   "outputs": [],
   "source": [
    "from policyengine_us.data.datasets.cps.raw_cps import RawCPS_2018, RawCPS_2019"
   ]
  },
  {
   "cell_type": "code",
   "execution_count": 2,
   "metadata": {},
   "outputs": [
    {
     "name": "stderr",
     "output_type": "stream",
     "text": [
      "Downloaded ASEC: 100%|██████████| 162M/162M [00:58<00:00, 2.78MiB/s]  \n",
      "Downloading ASEC:  53%|█████▎    | 106M/200M [00:33<00:30, 3.04MiB/s] "
     ]
    }
   ],
   "source": [
    "RawCPS_2019()\n",
    "RawCPS_2018()"
   ]
  },
  {
   "cell_type": "code",
   "execution_count": null,
   "metadata": {},
   "outputs": [],
   "source": [
    "cps_current_year_data = RawCPS_2019().load()\n",
    "cps_previous_year_data = RawCPS_2018().load()\n",
    "cps_previous_year = cps_previous_year_data.person.set_index(\n",
    "    cps_previous_year_data.person.PERIDNUM\n",
    ")\n",
    "cps_current_year = cps_current_year_data.person.set_index(\n",
    "    cps_current_year_data.person.PERIDNUM\n",
    ")\n",
    "\n",
    "previous_year_data = cps_previous_year[[\"WSAL_VAL\", \"SEMP_VAL\"]].rename(\n",
    "    {\n",
    "        \"WSAL_VAL\": \"employment_income_last_year\",\n",
    "        \"SEMP_VAL\": \"self_employment_income_last_year\",\n",
    "    },\n",
    "    axis=1,\n",
    ")\n",
    "\n",
    "joined_data = cps_current_year.join(previous_year_data)[\n",
    "    [\"employment_income_last_year\", \"self_employment_income_last_year\"]\n",
    "]\n",
    "joined_data[\"previous_year_income_available\"] = (\n",
    "    ~joined_data.employment_income_last_year.isna()\n",
    "    & ~joined_data.self_employment_income_last_year.isna()\n",
    ")\n",
    "joined_data = joined_data.fillna(-1)\n",
    "\n",
    "import pandas as pd\n",
    "\n",
    "cps = pd.DataFrame()\n",
    "\n",
    "cps[\"employment_income\"] = cps_current_year.WSAL_VAL.values\n",
    "cps[\"self_employment_income\"] = cps_current_year.SEMP_VAL.values\n",
    "\n",
    "# CPS already ordered by PERIDNUM, so the join wouldn't change the order.\n",
    "cps[\"employment_income_last_year\"] = joined_data[\n",
    "    \"employment_income_last_year\"\n",
    "].values\n",
    "cps[\"self_employment_income_last_year\"] = joined_data[\n",
    "    \"self_employment_income_last_year\"\n",
    "].values\n",
    "cps[\"previous_year_income_available\"] = joined_data[\n",
    "    \"previous_year_income_available\"\n",
    "].values"
   ]
  }
 ],
 "metadata": {
  "kernelspec": {
   "display_name": "base",
   "language": "python",
   "name": "python3"
  },
  "language_info": {
   "codemirror_mode": {
    "name": "ipython",
    "version": 3
   },
   "file_extension": ".py",
   "mimetype": "text/x-python",
   "name": "python",
   "nbconvert_exporter": "python",
   "pygments_lexer": "ipython3",
   "version": "3.9.12"
  }
 },
 "nbformat": 4,
 "nbformat_minor": 2
}
